{
  "cells": [
    {
      "cell_type": "code",
      "execution_count": null,
      "metadata": {
        "id": "uTnncRDivVDH"
      },
      "outputs": [],
      "source": [
        "# Prepare environment\n",
        "import os\n",
        "\n",
        "if not os.path.isfile(\"_installed\"):\n",
        "  !pip install spacy dash jupyter-dash pandas==1.2.0 mne[data] gdown yt-dlp webvtt-py librosa > /dev/null\n",
        "  !python -m spacy download en_core_web_sm\n",
        "  !apt install p7zip -y > /dev/null\n",
        "  !echo installed >> _installed"
      ]
    },
    {
      "cell_type": "code",
      "execution_count": null,
      "metadata": {
        "colab": {
          "base_uri": "https://localhost:8080/"
        },
        "id": "VS9HlSA9vYIW",
        "outputId": "94b698f8-60e8-43c4-a537-2e6997c2e154"
      },
      "outputs": [
        {
          "output_type": "stream",
          "name": "stdout",
          "text": [
            "[nltk_data] Downloading package vader_lexicon to /root/nltk_data...\n",
            "[nltk_data]   Package vader_lexicon is already up-to-date!\n"
          ]
        }
      ],
      "source": [
        "# Common imports\n",
        "import sys, os, time\n",
        "\n",
        "# Module imports\n",
        "import pandas as pd\n",
        "import spacy as sp\n",
        "import numpy as np\n",
        "import mne\n",
        "import dash\n",
        "from dash import html, dcc\n",
        "from jupyter_dash import JupyterDash\n",
        "import numpy as np # We might need it.\n",
        "from dash import dash_table\n",
        "\n",
        "# NLTK\n",
        "import nltk\n",
        "import threading\n",
        "\n",
        "# We can just download this asynchronously\n",
        "nltk.download('vader_lexicon')\n",
        "nltk_thread = threading.Thread(target=lambda: nltk.download(\"popular\", quiet=True))\n",
        "nltk_thread.setDaemon(True)\n",
        "nltk_thread.start()\n",
        "\n",
        "from nltk.corpus import wordnet as wn\n",
        "from nltk import word_tokenize, pos_tag\n",
        "\n",
        "# Matplotlib (alternative to dash for simple debugging graphs)\n",
        "import matplotlib.pyplot as plt"
      ]
    },
    {
      "cell_type": "code",
      "execution_count": null,
      "metadata": {
        "colab": {
          "base_uri": "https://localhost:8080/"
        },
        "id": "qx8b8A3MveB7",
        "outputId": "ecf56620-cbd0-4e99-b839-e90e014b2a6a"
      },
      "outputs": [
        {
          "output_type": "stream",
          "name": "stdout",
          "text": [
            "\n",
            "7-Zip [64] 16.02 : Copyright (c) 1999-2016 Igor Pavlov : 2016-05-21\n",
            "p7zip Version 16.02 (locale=en_US.UTF-8,Utf16=on,HugeFiles=on,64 bits,2 CPUs Intel(R) Xeon(R) CPU @ 2.20GHz (406F0),ASM,AES-NI)\n",
            "\n",
            "Scanning the drive for archives:\n",
            "  0M Scan /content/\b\b\b\b\b\b\b\b\b\b\b\b\b\b\b\b\b\b\b                   \b\b\b\b\b\b\b\b\b\b\b\b\b\b\b\b\b\b\b1 file, 0 bytes\n",
            "\n",
            "Extracting archive: /content/MINTS.zip\n",
            "ERROR: /content/MINTS.zip\n",
            "Can not open the file as archive\n",
            "\n",
            "  0%\b\b\b\b    \b\b\b\b\n",
            "Can't open as archive: 1\n",
            "Files: 0\n",
            "Size:       0\n",
            "Compressed: 0\n"
          ]
        }
      ],
      "source": [
        "# Download and decrypt MINTS data. I think I put the 3 in the wrong place in the\n",
        "# password. Oh well.\n",
        "# Also, it seems like the gdown started randomly failing at some point during\n",
        "# the week, so I'm temporarily hosting it on a temporary web server. I'm sorry\n",
        "# in advance for my terrible upload bandwidth.\n",
        "\n",
        "zip_password = \"LetsDoTheMINT3SWarpAgain!\"\n",
        "zipfile_name = \"MINTS.zip\"\n",
        "to_download = \"MINTS.zip\" # Replace with LargeMINTS.zip for the large dataset\n",
        "if not os.path.exists(zipfile_name):\n",
        "  !curl https://roadblocktoawesome.com/$to_download --insecure > MINTS.zip\n",
        "!mkdir -p nlp_data && cd nlp_data && 7z -y x /content/$zipfile_name -p$zip_password"
      ]
    },
    {
      "cell_type": "code",
      "execution_count": null,
      "metadata": {
        "colab": {
          "base_uri": "https://localhost:8080/"
        },
        "id": "egonBuigvg6W",
        "outputId": "541de3d7-797f-4a99-f205-48bb3a5eae13"
      },
      "outputs": [
        {
          "output_type": "stream",
          "name": "stdout",
          "text": [
            "fatal: destination path 'biometricSpeechAnalysis' already exists and is not an empty directory.\n"
          ]
        }
      ],
      "source": [
        "# Download biometric modules\n",
        "!git clone https://github.com/mi3nts/biometricSpeechAnalysis.git\n",
        "sys.path.append(os.path.abspath(\"biometricSpeechAnalysis\"))\n",
        "\n",
        "# Import them\n",
        "# from read_data import *"
      ]
    },
    {
      "cell_type": "code",
      "execution_count": null,
      "metadata": {
        "id": "F24p57Fe6H-D"
      },
      "outputs": [],
      "source": [
        "def read_eeg(vhdr_fname):\n",
        "    # define list of indicies for non-eeg channels\n",
        "    misc_list = []\n",
        "    for i in range(18):\n",
        "        misc_list.append(i+64)\n",
        "\n",
        "    # read raw data\n",
        "    raw = mne.io.read_raw_brainvision(vhdr_fname, misc=misc_list, preload=True,\n",
        "        verbose=False)\n",
        "    raw.info['line_freq'] = 500.\n",
        "\n",
        "    # Set montage\n",
        "    montage = mne.channels.make_standard_montage('easycap-M1')\n",
        "    raw.set_montage(montage, verbose=False)\n",
        "\n",
        "    # Set common average reference\n",
        "    raw.set_eeg_reference('average', projection=False, verbose=False)\n",
        "\n",
        "    # create pandas dataframe with eeg data\n",
        "    df_eeg_data = pd.DataFrame(raw.get_data().transpose(), columns=raw.ch_names)\n",
        "    \n",
        "    # Trigger to sync with tobii eye data\n",
        "    trig_tob = df_eeg_data.loc[df_eeg_data['TRIGGER'] == 3]\n",
        "    start_tob = trig_tob.index[0]\n",
        "    df_eeg_data = df_eeg_data.iloc[start_tob:, :]\n",
        "    df_eeg_data.reset_index(inplace=True)\n",
        "    \n",
        "    # create time index - round to integer to match with transcript data\n",
        "    times = list(range(len(df_eeg_data.index)))\n",
        "    times = [int(t / 500) for t in times]\n",
        "    df_eeg_data['Time'] = times\n",
        "    \n",
        "    # trigger for data during youtube video\n",
        "    temp =  df_eeg_data.loc[df_eeg_data['TRIGGER'] == 8888]\n",
        "    #youtube_start = df_eeg_data.loc[df_eeg_data['TRIGGER'] == 8888].index[0]\n",
        "    youtube_end = temp.index[len(temp.index) - 1]\n",
        "    df_eeg_data = df_eeg_data.iloc[:youtube_end + 1, :]\n",
        "    #print(df_eeg_data_youtube)\n",
        "    \n",
        "    df_eeg_data = df_eeg_data.loc[:, ~df_eeg_data.columns.isin(['T7', 'TRIGGER', 'ACC79', 'Packet Counter',\n",
        "                                                              'ACC77', 'ACC78', 'AUX 2', 'AUX 1', 'index'])]\n",
        "    \n",
        "    # sync up time with youtube video\n",
        "    #df_eeg_data_youtube['Time'] = df_eeg_data_youtube['Time'] - df_eeg_data_youtube.iloc[0]['Time'] + 1\n",
        "    #df_eeg_data_youtube['Time'] = df_eeg_data_youtube['Time'].astype(int)\n",
        "    \n",
        "    return df_eeg_data"
      ]
    },
    {
      "cell_type": "code",
      "execution_count": null,
      "metadata": {
        "id": "oUKleT9b6Jsq",
        "colab": {
          "base_uri": "https://localhost:8080/",
          "height": 348
        },
        "outputId": "84318fcc-bb27-4267-8fa7-4bd155f8c79f"
      },
      "outputs": [
        {
          "output_type": "error",
          "ename": "FileNotFoundError",
          "evalue": "ignored",
          "traceback": [
            "\u001b[0;31m---------------------------------------------------------------------------\u001b[0m",
            "\u001b[0;31mFileNotFoundError\u001b[0m                         Traceback (most recent call last)",
            "\u001b[0;32m<ipython-input-12-c14098c35ed0>\u001b[0m in \u001b[0;36m<module>\u001b[0;34m()\u001b[0m\n\u001b[0;32m----> 1\u001b[0;31m \u001b[0mdf_eeg_data\u001b[0m \u001b[0;34m=\u001b[0m \u001b[0mread_eeg\u001b[0m\u001b[0;34m(\u001b[0m\u001b[0;34m\"./nlp_data/2022_01_14_T04_U002_EEG01/2022_01_14_T04_U002_EEG01.vhdr\"\u001b[0m\u001b[0;34m)\u001b[0m\u001b[0;34m\u001b[0m\u001b[0;34m\u001b[0m\u001b[0m\n\u001b[0m",
            "\u001b[0;32m<ipython-input-11-dcd5053b6c2b>\u001b[0m in \u001b[0;36mread_eeg\u001b[0;34m(vhdr_fname)\u001b[0m\n\u001b[1;32m      7\u001b[0m     \u001b[0;31m# read raw data\u001b[0m\u001b[0;34m\u001b[0m\u001b[0;34m\u001b[0m\u001b[0;34m\u001b[0m\u001b[0m\n\u001b[1;32m      8\u001b[0m     raw = mne.io.read_raw_brainvision(vhdr_fname, misc=misc_list, preload=True,\n\u001b[0;32m----> 9\u001b[0;31m         verbose=False)\n\u001b[0m\u001b[1;32m     10\u001b[0m     \u001b[0mraw\u001b[0m\u001b[0;34m.\u001b[0m\u001b[0minfo\u001b[0m\u001b[0;34m[\u001b[0m\u001b[0;34m'line_freq'\u001b[0m\u001b[0;34m]\u001b[0m \u001b[0;34m=\u001b[0m \u001b[0;36m500.\u001b[0m\u001b[0;34m\u001b[0m\u001b[0;34m\u001b[0m\u001b[0m\n\u001b[1;32m     11\u001b[0m \u001b[0;34m\u001b[0m\u001b[0m\n",
            "\u001b[0;32m/usr/local/lib/python3.7/dist-packages/mne/io/brainvision/brainvision.py\u001b[0m in \u001b[0;36mread_raw_brainvision\u001b[0;34m(vhdr_fname, eog, misc, scale, preload, verbose)\u001b[0m\n\u001b[1;32m    859\u001b[0m     return RawBrainVision(vhdr_fname=vhdr_fname, eog=eog,\n\u001b[1;32m    860\u001b[0m                           \u001b[0mmisc\u001b[0m\u001b[0;34m=\u001b[0m\u001b[0mmisc\u001b[0m\u001b[0;34m,\u001b[0m \u001b[0mscale\u001b[0m\u001b[0;34m=\u001b[0m\u001b[0mscale\u001b[0m\u001b[0;34m,\u001b[0m \u001b[0mpreload\u001b[0m\u001b[0;34m=\u001b[0m\u001b[0mpreload\u001b[0m\u001b[0;34m,\u001b[0m\u001b[0;34m\u001b[0m\u001b[0;34m\u001b[0m\u001b[0m\n\u001b[0;32m--> 861\u001b[0;31m                           verbose=verbose)\n\u001b[0m\u001b[1;32m    862\u001b[0m \u001b[0;34m\u001b[0m\u001b[0m\n\u001b[1;32m    863\u001b[0m \u001b[0;34m\u001b[0m\u001b[0m\n",
            "\u001b[0;32m<decorator-gen-340>\u001b[0m in \u001b[0;36m__init__\u001b[0;34m(self, vhdr_fname, eog, misc, scale, preload, verbose)\u001b[0m\n",
            "\u001b[0;32m/usr/local/lib/python3.7/dist-packages/mne/io/brainvision/brainvision.py\u001b[0m in \u001b[0;36m__init__\u001b[0;34m(self, vhdr_fname, eog, misc, scale, preload, verbose)\u001b[0m\n\u001b[1;32m     71\u001b[0m         \u001b[0mvhdr_fname\u001b[0m \u001b[0;34m=\u001b[0m \u001b[0mop\u001b[0m\u001b[0;34m.\u001b[0m\u001b[0mabspath\u001b[0m\u001b[0;34m(\u001b[0m\u001b[0mvhdr_fname\u001b[0m\u001b[0;34m)\u001b[0m\u001b[0;34m\u001b[0m\u001b[0;34m\u001b[0m\u001b[0m\n\u001b[1;32m     72\u001b[0m         (info, data_fname, fmt, order, n_samples, mrk_fname, montage,\n\u001b[0;32m---> 73\u001b[0;31m          orig_units) = _get_vhdr_info(vhdr_fname, eog, misc, scale)\n\u001b[0m\u001b[1;32m     74\u001b[0m \u001b[0;34m\u001b[0m\u001b[0m\n\u001b[1;32m     75\u001b[0m         \u001b[0;32mwith\u001b[0m \u001b[0mopen\u001b[0m\u001b[0;34m(\u001b[0m\u001b[0mdata_fname\u001b[0m\u001b[0;34m,\u001b[0m \u001b[0;34m'rb'\u001b[0m\u001b[0;34m)\u001b[0m \u001b[0;32mas\u001b[0m \u001b[0mf\u001b[0m\u001b[0;34m:\u001b[0m\u001b[0;34m\u001b[0m\u001b[0;34m\u001b[0m\u001b[0m\n",
            "\u001b[0;32m/usr/local/lib/python3.7/dist-packages/mne/io/brainvision/brainvision.py\u001b[0m in \u001b[0;36m_get_vhdr_info\u001b[0;34m(vhdr_fname, eog, misc, scale)\u001b[0m\n\u001b[1;32m    457\u001b[0m                       \"not a file with extension '%s'.\" % ext)\n\u001b[1;32m    458\u001b[0m \u001b[0;34m\u001b[0m\u001b[0m\n\u001b[0;32m--> 459\u001b[0;31m     \u001b[0msettings\u001b[0m\u001b[0;34m,\u001b[0m \u001b[0mcfg\u001b[0m\u001b[0;34m,\u001b[0m \u001b[0mcinfostr\u001b[0m\u001b[0;34m,\u001b[0m \u001b[0minfo\u001b[0m \u001b[0;34m=\u001b[0m \u001b[0m_aux_vhdr_info\u001b[0m\u001b[0;34m(\u001b[0m\u001b[0mvhdr_fname\u001b[0m\u001b[0;34m)\u001b[0m\u001b[0;34m\u001b[0m\u001b[0;34m\u001b[0m\u001b[0m\n\u001b[0m\u001b[1;32m    460\u001b[0m     \u001b[0minfo\u001b[0m\u001b[0;34m.\u001b[0m\u001b[0m_unlocked\u001b[0m \u001b[0;34m=\u001b[0m \u001b[0;32mTrue\u001b[0m\u001b[0;34m\u001b[0m\u001b[0;34m\u001b[0m\u001b[0m\n\u001b[1;32m    461\u001b[0m \u001b[0;34m\u001b[0m\u001b[0m\n",
            "\u001b[0;32m/usr/local/lib/python3.7/dist-packages/mne/io/brainvision/brainvision.py\u001b[0m in \u001b[0;36m_aux_vhdr_info\u001b[0;34m(vhdr_fname)\u001b[0m\n\u001b[1;32m    359\u001b[0m \u001b[0;32mdef\u001b[0m \u001b[0m_aux_vhdr_info\u001b[0m\u001b[0;34m(\u001b[0m\u001b[0mvhdr_fname\u001b[0m\u001b[0;34m)\u001b[0m\u001b[0;34m:\u001b[0m\u001b[0;34m\u001b[0m\u001b[0;34m\u001b[0m\u001b[0m\n\u001b[1;32m    360\u001b[0m     \u001b[0;34m\"\"\"Aux function for _get_vhdr_info.\"\"\"\u001b[0m\u001b[0;34m\u001b[0m\u001b[0;34m\u001b[0m\u001b[0m\n\u001b[0;32m--> 361\u001b[0;31m     \u001b[0;32mwith\u001b[0m \u001b[0mopen\u001b[0m\u001b[0;34m(\u001b[0m\u001b[0mvhdr_fname\u001b[0m\u001b[0;34m,\u001b[0m \u001b[0;34m'rb'\u001b[0m\u001b[0;34m)\u001b[0m \u001b[0;32mas\u001b[0m \u001b[0mf\u001b[0m\u001b[0;34m:\u001b[0m\u001b[0;34m\u001b[0m\u001b[0;34m\u001b[0m\u001b[0m\n\u001b[0m\u001b[1;32m    362\u001b[0m         \u001b[0;31m# extract the first section to resemble a cfg\u001b[0m\u001b[0;34m\u001b[0m\u001b[0;34m\u001b[0m\u001b[0;34m\u001b[0m\u001b[0m\n\u001b[1;32m    363\u001b[0m         \u001b[0mheader\u001b[0m \u001b[0;34m=\u001b[0m \u001b[0mf\u001b[0m\u001b[0;34m.\u001b[0m\u001b[0mreadline\u001b[0m\u001b[0;34m(\u001b[0m\u001b[0;34m)\u001b[0m\u001b[0;34m\u001b[0m\u001b[0;34m\u001b[0m\u001b[0m\n",
            "\u001b[0;31mFileNotFoundError\u001b[0m: [Errno 2] No such file or directory: '/content/nlp_data/2022_01_14_T04_U002_EEG01/2022_01_14_T04_U002_EEG01.vhdr'"
          ]
        }
      ],
      "source": [
        "df_eeg_data = read_eeg(\"./nlp_data/2022_01_14_T04_U002_EEG01/2022_01_14_T04_U002_EEG01.vhdr\")"
      ]
    },
    {
      "cell_type": "code",
      "execution_count": null,
      "metadata": {
        "id": "Jl9TamPlw9X0"
      },
      "outputs": [],
      "source": [
        "yt_wav = \"BadTalk.wav\""
      ]
    },
    {
      "cell_type": "code",
      "execution_count": null,
      "metadata": {
        "id": "Win4EL8svVIz",
        "colab": {
          "base_uri": "https://localhost:8080/"
        },
        "outputId": "ab80b566-3ed0-49b6-ba69-7cb5b33f29d8"
      },
      "outputs": [
        {
          "output_type": "stream",
          "name": "stdout",
          "text": [
            "[youtube] nGS8_R79vls: Downloading webpage\n",
            "[youtube] nGS8_R79vls: Downloading android player API JSON\n",
            "[info] nGS8_R79vls: Downloading 1 format(s): 251\n",
            "[info] Writing video subtitles to: BadTalk.en.vtt\n",
            "[download] Destination: BadTalk.en.vtt\n",
            "\u001b[K[download] 100% of 26.96KiB in \u001b[1;37m00:00\u001b[0m\n",
            "[download] Destination: BadTalk.webm\n",
            "\u001b[K[download] 100% of 2.77MiB in \u001b[1;37m00:00\u001b[0m\n",
            "[ExtractAudio] Destination: BadTalk.wav\n",
            "Deleting original file BadTalk.webm (pass -k to keep)\n",
            "[MoveFiles] Moving file \"BadTalk.en.vtt\" to \"BadTalk.wav.en.vtt\"\n"
          ]
        }
      ],
      "source": [
        "!yt-dlp -x --audio-format wav --audio-quality 0 --write-auto-sub -o $yt_wav https://www.youtube.com/watch?v=nGS8_R79vls"
      ]
    },
    {
      "cell_type": "code",
      "execution_count": null,
      "metadata": {
        "id": "ipGdjE7xHky9"
      },
      "outputs": [],
      "source": [
        "samplerate = 500"
      ]
    },
    {
      "cell_type": "code",
      "execution_count": null,
      "metadata": {
        "id": "ADHxrpuIw03z"
      },
      "outputs": [],
      "source": [
        "import webvtt\n",
        "vtt = webvtt.read(yt_wav + \".en.vtt\")"
      ]
    },
    {
      "cell_type": "code",
      "execution_count": null,
      "metadata": {
        "id": "iajgh0kcxJKT"
      },
      "outputs": [],
      "source": [
        "def ts_to_frameno(ts):\n",
        "  # Converts a 00:00:00.000 timestamp into a frame number\n",
        "  hrs, mins, secs = ts.split(\":\")\n",
        "  total = int(hrs) * 3600 + int(mins) * 60 + float(secs)\n",
        "  frameno = int(total * samplerate)\n",
        "  return frameno"
      ]
    },
    {
      "cell_type": "code",
      "execution_count": null,
      "metadata": {
        "id": "BZmxX7B8y0Vh",
        "colab": {
          "base_uri": "https://localhost:8080/"
        },
        "outputId": "84097e59-b4b3-40b2-dc55-9addee76b3eb"
      },
      "outputs": [
        {
          "output_type": "stream",
          "name": "stdout",
          "text": [
            "00:00:08.340 00:00:11.130  \\nFrank\n",
            "00:00:11.130 00:00:11.140  \\n \n",
            "00:00:11.140 00:00:15.900  \\nthat's your real name get off\n",
            "00:00:15.900 00:00:15.910 that's your real name get off\\n \n",
            "00:00:15.910 00:00:17.910 that's your real name get off\\nthreatening innocent people in danger\n",
            "00:00:17.910 00:00:17.920 threatening innocent people in danger\\n \n",
            "00:00:17.920 00:00:19.380 threatening innocent people in danger\\nbecause you squeal because you had a\n",
            "00:00:19.380 00:00:19.390 because you squeal because you had a\\n \n",
            "00:00:19.390 00:00:21.929 because you squeal because you had a\\ncolony we've gone back the hammer that\n",
            "00:00:21.929 00:00:21.939 colony we've gone back the hammer that\\n \n",
            "00:00:21.939 00:00:25.410 colony we've gone back the hammer that\\nwas for you or the show what does that\n",
            "00:00:25.410 00:00:25.420 was for you or the show what does that\\n \n",
            "00:00:25.420 00:00:28.590 was for you or the show what does that\\nmean you really have to spell it out for\n",
            "00:00:28.590 00:00:28.600 mean you really have to spell it out for\\n \n",
            "00:00:28.600 00:00:31.320 mean you really have to spell it out for\\nyou red huh I'm disappointed\n",
            "00:00:31.320 00:00:31.330 you red huh I'm disappointed\\n \n",
            "00:00:31.330 00:00:34.020 you red huh I'm disappointed\\nlisten carefully okay are you listening\n",
            "00:00:34.020 00:00:34.030 listen carefully okay are you listening\\n \n",
            "00:00:34.030 00:00:39.049 listen carefully okay are you listening\\nyeah how about now you listening feel it\n",
            "00:00:39.049 00:00:39.059  \\n \n",
            "00:00:39.059 00:00:43.380  \\nI'm not that guy right when I explain\n",
            "00:00:43.380 00:00:43.390 I'm not that guy right when I explain\\n \n",
            "00:00:43.390 00:00:44.579 I'm not that guy right when I explain\\nthat to the orphans and the widows of\n",
            "00:00:44.579 00:00:44.589 that to the orphans and the widows of\\n \n",
            "00:00:44.589 00:00:47.280 that to the orphans and the widows of\\nthe men you kill [ __ ] did you think I'm\n",
            "00:00:47.280 00:00:47.290 the men you kill [ __ ] did you think I'm\\n \n",
            "00:00:47.290 00:00:49.049 the men you kill [ __ ] did you think I'm\\njust some crazy [ __ ] going around\n",
            "00:00:49.049 00:00:49.059 just some crazy [ __ ] going around\\n \n",
            "00:00:49.059 00:00:50.850 just some crazy [ __ ] going around\\nunloading on whoever I want yeah that's\n",
            "00:00:50.850 00:00:50.860 unloading on whoever I want yeah that's\\n \n",
            "00:00:50.860 00:00:51.960 unloading on whoever I want yeah that's\\nexactly what I think\n",
            "00:00:51.960 00:00:51.970 exactly what I think\\n \n",
            "00:00:51.970 00:00:53.729 exactly what I think\\nyou think you're anything else I think\n",
            "00:00:53.729 00:00:53.739 you think you're anything else I think\\n \n",
            "00:00:53.739 00:00:55.469 you think you're anything else I think\\nthat the people I kill need killing\n",
            "00:00:55.469 00:00:55.479 that the people I kill need killing\\n \n",
            "00:00:55.479 00:00:56.789 that the people I kill need killing\\nthat's what I do you left two men\n",
            "00:00:56.789 00:00:56.799 that's what I do you left two men\\n \n",
            "00:00:56.799 00:00:59.369 that's what I do you left two men\\nhanging from me toes it got off easy at\n",
            "00:00:59.369 00:00:59.379 hanging from me toes it got off easy at\\n \n",
            "00:00:59.379 00:01:01.890 hanging from me toes it got off easy at\\nmy opinion you shut up a hospital yeah\n",
            "00:01:01.890 00:01:01.900 my opinion you shut up a hospital yeah\\n \n",
            "00:01:01.900 00:01:03.649 my opinion you shut up a hospital yeah\\nnobody got hurt or didn't deserve it\n",
            "00:01:03.649 00:01:03.659 nobody got hurt or didn't deserve it\\n \n",
            "00:01:03.659 00:01:06.000 nobody got hurt or didn't deserve it\\nwhat about you Frank what happens the\n",
            "00:01:06.000 00:01:06.010 what about you Frank what happens the\\n \n",
            "00:01:06.010 00:01:08.310 what about you Frank what happens the\\nday someone decides you deserve it so\n",
            "00:01:08.310 00:01:08.320 day someone decides you deserve it so\\n \n",
            "00:01:08.320 00:01:11.940 day someone decides you deserve it so\\nyou would better not miss you run around\n",
            "00:01:11.940 00:01:11.950 you would better not miss you run around\\n \n",
            "00:01:11.950 00:01:13.590 you would better not miss you run around\\nthe city like it's your damn shooting\n",
            "00:01:13.590 00:01:13.600 the city like it's your damn shooting\\n \n",
            "00:01:13.600 00:01:15.300 the city like it's your damn shooting\\ngallery yeah what do you need to what do\n",
            "00:01:15.300 00:01:15.310 gallery yeah what do you need to what do\\n \n",
            "00:01:15.310 00:01:17.580 gallery yeah what do you need to what do\\nyou do yeah like it's a playground you\n",
            "00:01:17.580 00:01:17.590 you do yeah like it's a playground you\\n \n",
            "00:01:17.590 00:01:19.470 you do yeah like it's a playground you\\nbeat up the bullies with your fish you\n",
            "00:01:19.470 00:01:19.480 beat up the bullies with your fish you\\n \n",
            "00:01:19.480 00:01:21.240 beat up the bullies with your fish you\\nthrow them in jail everybody calls you a\n",
            "00:01:21.240 00:01:21.250 throw them in jail everybody calls you a\\n \n",
            "00:01:21.250 00:01:23.550 throw them in jail everybody calls you a\\nhero right and then a month a week a day\n",
            "00:01:23.550 00:01:23.560 hero right and then a month a week a day\\n \n",
            "00:01:23.560 00:01:25.290 hero right and then a month a week a day\\nlater they're back on the streets doing\n",
            "00:01:25.290 00:01:25.300 later they're back on the streets doing\\n \n",
            "00:01:25.300 00:01:27.540 later they're back on the streets doing\\nthe same goddamn thing so you just put\n",
            "00:01:27.540 00:01:27.550 the same goddamn thing so you just put\\n \n",
            "00:01:27.550 00:01:29.090 the same goddamn thing so you just put\\nhim in the more you goddamn right I do\n",
            "00:01:29.090 00:01:29.100 him in the more you goddamn right I do\\n \n",
            "00:01:29.100 00:01:31.560 him in the more you goddamn right I do\\nyou ever doubt yourself Frank not even\n",
            "00:01:31.560 00:01:31.570 you ever doubt yourself Frank not even\\n \n",
            "00:01:31.570 00:01:33.720 you ever doubt yourself Frank not even\\nfor a second really really you never\n",
            "00:01:33.720 00:01:33.730 for a second really really you never\\n \n",
            "00:01:33.730 00:01:36.390 for a second really really you never\\nthink for one second [ __ ] I just killed\n",
            "00:01:36.390 00:01:36.400 think for one second [ __ ] I just killed\\n \n",
            "00:01:36.400 00:01:38.370 think for one second [ __ ] I just killed\\na human being it's being pretty generous\n",
            "00:01:38.370 00:01:38.380 a human being it's being pretty generous\\n \n",
            "00:01:38.380 00:01:40.500 a human being it's being pretty generous\\na human being who did a lot of stupid\n",
            "00:01:40.500 00:01:40.510 a human being who did a lot of stupid\\n \n",
            "00:01:40.510 00:01:42.660 a human being who did a lot of stupid\\n[ __ ] maybe even evil but had one small\n",
            "00:01:42.660 00:01:42.670 [ __ ] maybe even evil but had one small\\n \n",
            "00:01:42.670 00:01:44.610 [ __ ] maybe even evil but had one small\\npiece of goodness in him maybe just a\n",
            "00:01:44.610 00:01:44.620 piece of goodness in him maybe just a\\n \n",
            "00:01:44.620 00:01:46.770 piece of goodness in him maybe just a\\nscrap Frank but something and then you\n",
            "00:01:46.770 00:01:46.780 scrap Frank but something and then you\\n \n",
            "00:01:46.780 00:01:48.570 scrap Frank but something and then you\\ncome along and that one tiny flicker of\n",
            "00:01:48.570 00:01:48.580 come along and that one tiny flicker of\\n \n",
            "00:01:48.580 00:01:53.359 come along and that one tiny flicker of\\nlight gets snuffed out forever\n",
            "00:01:53.359 00:01:53.369  \\n \n",
            "00:01:53.369 00:01:57.050  \\nI think you're wrong which part all of\n",
            "00:01:57.050 00:01:57.060 I think you're wrong which part all of\\n \n",
            "00:01:57.060 00:01:59.149 I think you're wrong which part all of\\nit I think there's no good in the food\n",
            "00:01:59.149 00:01:59.159 it I think there's no good in the food\\n \n",
            "00:01:59.159 00:02:00.529 it I think there's no good in the food\\nthat I put down that's what I think then\n",
            "00:02:00.529 00:02:00.539 that I put down that's what I think then\\n \n",
            "00:02:00.539 00:02:02.719 that I put down that's what I think then\\nhow do you know I just know look around\n",
            "00:02:02.719 00:02:02.729 how do you know I just know look around\\n \n",
            "00:02:02.729 00:02:05.120 how do you know I just know look around\\nright the city it stinks its sewer it\n",
            "00:02:05.120 00:02:05.130 right the city it stinks its sewer it\\n \n",
            "00:02:05.130 00:02:06.889 right the city it stinks its sewer it\\nstinks it smells like [ __ ] and I can't\n",
            "00:02:06.889 00:02:06.899 stinks it smells like [ __ ] and I can't\\n \n",
            "00:02:06.899 00:02:08.479 stinks it smells like [ __ ] and I can't\\nget the stink out of my nose I think\n",
            "00:02:08.479 00:02:08.489 get the stink out of my nose I think\\n \n",
            "00:02:08.489 00:02:10.550 get the stink out of my nose I think\\nthat this world it needs men that are\n",
            "00:02:10.550 00:02:10.560 that this world it needs men that are\\n \n",
            "00:02:10.560 00:02:14.960 that this world it needs men that are\\nwilling to make the hard call we are do\n",
            "00:02:14.960 00:02:14.970 willing to make the hard call we are do\\n \n",
            "00:02:14.970 00:02:16.940 willing to make the hard call we are do\\nthe one thing that you can you hit him\n",
            "00:02:16.940 00:02:16.950 the one thing that you can you hit him\\n \n",
            "00:02:16.950 00:02:18.410 the one thing that you can you hit him\\nand they get back up I hit him and they\n",
            "00:02:18.410 00:02:18.420 and they get back up I hit him and they\\n \n",
            "00:02:18.420 00:02:20.869 and they get back up I hit him and they\\nstay down it's permanent I make sure\n",
            "00:02:20.869 00:02:20.879 stay down it's permanent I make sure\\n \n",
            "00:02:20.879 00:02:21.800 stay down it's permanent I make sure\\nthat they don't make it out on the\n",
            "00:02:21.800 00:02:21.810 that they don't make it out on the\\n \n",
            "00:02:21.810 00:02:23.420 that they don't make it out on the\\nstreet again I take pride in that let me\n",
            "00:02:23.420 00:02:23.430 street again I take pride in that let me\\n \n",
            "00:02:23.430 00:02:25.039 street again I take pride in that let me\\nask you this listen what about hope no\n",
            "00:02:25.039 00:02:25.049 ask you this listen what about hope no\\n \n",
            "00:02:25.049 00:02:27.170 ask you this listen what about hope no\\n[ __ ] my Santa Claus you want to talk\n",
            "00:02:27.170 00:02:27.180 [ __ ] my Santa Claus you want to talk\\n \n",
            "00:02:27.180 00:02:28.430 [ __ ] my Santa Claus you want to talk\\nabout Santa Claus I live in the real\n",
            "00:02:28.430 00:02:28.440 about Santa Claus I live in the real\\n \n",
            "00:02:28.440 00:02:30.080 about Santa Claus I live in the real\\nworld what I've seen it what did you see\n",
            "00:02:30.080 00:02:30.090 world what I've seen it what did you see\\n \n",
            "00:02:30.090 00:02:32.930 world what I've seen it what did you see\\nRedemption Frank it's possible the\n",
            "00:02:32.930 00:02:32.940 Redemption Frank it's possible the\\n \n",
            "00:02:32.940 00:02:34.160 Redemption Frank it's possible the\\npeople you murdered deserve another\n",
            "00:02:34.160 00:02:34.170 people you murdered deserve another\\n \n",
            "00:02:34.170 00:02:35.870 people you murdered deserve another\\nchance to kill again rape again is it\n",
            "00:02:35.870 00:02:35.880 chance to kill again rape again is it\\n \n",
            "00:02:35.880 00:02:40.850 chance to kill again rape again is it\\nwell Frank to try again Frank to try and\n",
            "00:02:40.850 00:02:40.860 well Frank to try again Frank to try and\\n \n",
            "00:02:40.860 00:02:41.930 well Frank to try again Frank to try and\\nif you don't get that there's something\n",
            "00:02:41.930 00:02:41.940 if you don't get that there's something\\n \n",
            "00:02:41.940 00:02:43.880 if you don't get that there's something\\nbroken in you you can't fix and you\n",
            "00:02:43.880 00:02:43.890 broken in you you can't fix and you\\n \n",
            "00:02:43.890 00:02:48.039 broken in you you can't fix and you\\nreally are a nut job\n",
            "00:02:48.039 00:02:48.049  \\n \n",
            "00:02:48.049 00:02:55.009  \\nyeah you're unhinged Frank you are you\n",
            "00:02:55.009 00:02:55.019 yeah you're unhinged Frank you are you\\n \n",
            "00:02:55.019 00:02:56.600 yeah you're unhinged Frank you are you\\nthink God made you a one-man firing\n",
            "00:02:56.600 00:02:56.610 think God made you a one-man firing\\n \n",
            "00:02:56.610 00:02:59.110 think God made you a one-man firing\\nsquad but you're wrong\n",
            "00:02:59.110 00:02:59.120 squad but you're wrong\\n \n",
            "00:02:59.120 00:03:01.610 squad but you're wrong\\nthere is goodness in people even in you\n",
            "00:03:01.610 00:03:01.620 there is goodness in people even in you\\n \n",
            "00:03:01.620 00:03:03.319 there is goodness in people even in you\\nand you're gonna have to kill me cuz I'm\n",
            "00:03:03.319 00:03:03.329 and you're gonna have to kill me cuz I'm\\n \n",
            "00:03:03.329 00:03:05.150 and you're gonna have to kill me cuz I'm\\nnever gonna stop coming for you until I\n",
            "00:03:05.150 00:03:05.160 never gonna stop coming for you until I\\n \n",
            "00:03:05.160 00:03:07.550 never gonna stop coming for you until I\\ntake you down you want to know why I\n",
            "00:03:07.550 00:03:07.560 take you down you want to know why I\\n \n",
            "00:03:07.560 00:03:21.620 take you down you want to know why I\\nsaid because you're insane\n",
            "00:03:21.620 00:03:21.630  \\n \n",
            "00:03:21.630 00:03:23.690  \\nyou\n",
            "29373325\n"
          ]
        }
      ],
      "source": [
        "import re\n",
        "cap_re = re.compile(r\"<(?P<time>\\d{2}:\\d{2}:\\d+\\.\\d+)><c>(?P<text>[^<]+)</c>\")\n",
        "\n",
        "# Clearly, not the most efficient way of doing it, but it works\n",
        "frame_to_caption = [0] * len(df_eeg_data)\n",
        "caption_text = ['']\n",
        "\n",
        "for caption in vtt:\n",
        "  print(caption)\n",
        "  frame_start = ts_to_frameno(caption.start)\n",
        "  frame_end = ts_to_frameno(caption.end)\n",
        "  words = []\n",
        "\n",
        "  for word_start, word_text in cap_re.findall(caption.raw_text):\n",
        "    word_start = ts_to_frameno(word_start)\n",
        "    word_text = word_text.strip()\n",
        "    if not word_text: continue\n",
        "\n",
        "    words.append((word_start, word_text))\n",
        "  \n",
        "  bad_guess = False\n",
        "  if len(words) == 0 and caption.text.strip():\n",
        "    words.append((frame_start, caption.text.strip()))\n",
        "    bad_guess = True\n",
        "\n",
        "  for i, (word_start, word_text) in enumerate(words):\n",
        "    if i == len(words) - 1:\n",
        "      word_end = frame_end\n",
        "    else:\n",
        "      word_end = words[i + 1][0] - 1\n",
        "    \n",
        "    for i in range(frame_start, min(len(df_eeg_data), word_end + 1)):\n",
        "      frame_to_caption[i] = len(caption_text) if (frame_to_caption[i] == 0 or not bad_guess) else frame_to_caption[i]\n",
        "    caption_text.append(word_text)\n",
        "\n",
        "print(sum(frame_to_caption))\n",
        "df_eeg_data[\"Caption\"] = frame_to_caption\n",
        "del frame_to_caption"
      ]
    },
    {
      "cell_type": "code",
      "execution_count": null,
      "metadata": {
        "id": "EtCooUrMsp2s"
      },
      "outputs": [],
      "source": [
        "#if \"Time\" in df_eeg_data.keys(): del df_eeg_data[\"Time\"]"
      ]
    },
    {
      "cell_type": "code",
      "execution_count": null,
      "metadata": {
        "id": "5SVPvFEO0I3A",
        "colab": {
          "base_uri": "https://localhost:8080/",
          "height": 424
        },
        "outputId": "33196646-730c-45d6-b7d2-f211935cb3ac"
      },
      "outputs": [
        {
          "output_type": "execute_result",
          "data": {
            "text/plain": [
              "             Fp1       Fp2        F3        F4        C3        C4        P3  \\\n",
              "0      -0.007219 -0.002130  0.000159  0.001061  0.003591 -0.000589  0.000366   \n",
              "1      -0.007219 -0.002131  0.000160  0.001058  0.003594 -0.000589  0.000365   \n",
              "2      -0.007219 -0.002130  0.000161  0.001056  0.003593 -0.000587  0.000362   \n",
              "3      -0.007221 -0.002132  0.000159  0.001057  0.003592 -0.000586  0.000364   \n",
              "4      -0.007225 -0.002137  0.000156  0.001054  0.003596 -0.000584  0.000371   \n",
              "...          ...       ...       ...       ...       ...       ...       ...   \n",
              "111090 -0.007005 -0.001874  0.000007  0.001312  0.003813 -0.000324  0.000734   \n",
              "111091 -0.006997 -0.001871  0.000020  0.001307  0.003813 -0.000349  0.000727   \n",
              "111092 -0.006995 -0.001869  0.000023  0.001317  0.003802 -0.000337  0.000717   \n",
              "111093 -0.007004 -0.001868  0.000010  0.001330  0.003808 -0.000311  0.000725   \n",
              "111094 -0.007007 -0.001868  0.000007  0.001340  0.003810 -0.000309  0.000721   \n",
              "\n",
              "              P4        O1        O2  ...     ExG 4      ECG.      Resp.  \\\n",
              "0      -0.001565 -0.002582 -0.002542  ... -0.052083 -0.002146  39.018117   \n",
              "1      -0.001565 -0.002581 -0.002542  ... -0.052083 -0.002148  39.018117   \n",
              "2      -0.001563 -0.002582 -0.002544  ... -0.052083 -0.002147  39.018117   \n",
              "3      -0.001561 -0.002581 -0.002542  ... -0.052083 -0.002146  39.018117   \n",
              "4      -0.001557 -0.002577 -0.002536  ... -0.052083 -0.002143  39.018117   \n",
              "...          ...       ...       ...  ...       ...       ...        ...   \n",
              "111090 -0.001273 -0.002184 -0.001799  ... -0.052083 -0.001787  38.559619   \n",
              "111091 -0.001277 -0.002190 -0.001802  ... -0.052083 -0.001790  38.559619   \n",
              "111092 -0.001276 -0.002202 -0.001809  ... -0.052083 -0.001797  38.559619   \n",
              "111093 -0.001279 -0.002203 -0.001813  ... -0.052083 -0.001799  38.559619   \n",
              "111094 -0.001278 -0.002207 -0.001809  ... -0.052083 -0.001789  38.559619   \n",
              "\n",
              "                 PPG   SpO2    HR          GSR    Temp.  Time  Caption  \n",
              "0       16433.000565  100.0  79.0  3652.219534  30.1875     0        0  \n",
              "1       16433.000565  100.0  79.0  3652.219534  30.1875     0        0  \n",
              "2       16433.000565  100.0  79.0  3652.219534  30.1875     0        0  \n",
              "3       16433.000565  100.0  79.0  3652.219534  30.1875     0        0  \n",
              "4       16421.999782  100.0  79.0  3652.219534  30.1875     0        0  \n",
              "...              ...    ...   ...          ...      ...   ...      ...  \n",
              "111090  16381.999478  100.0  76.0  3655.751467  30.2500   222        0  \n",
              "111091  16381.999478  100.0  76.0  3655.751467  30.2500   222        0  \n",
              "111092  16397.999600  100.0  76.0  3655.751467  30.2500   222        0  \n",
              "111093  16397.999600  100.0  76.0  3655.751467  30.2500   222        0  \n",
              "111094  16397.999600  100.0  76.0  3655.751467  30.2500   222        0  \n",
              "\n",
              "[111095 rows x 76 columns]"
            ],
            "text/html": [
              "\n",
              "  <div id=\"df-634faa3d-8b27-4dba-88fb-4f4633687abb\">\n",
              "    <div class=\"colab-df-container\">\n",
              "      <div>\n",
              "<style scoped>\n",
              "    .dataframe tbody tr th:only-of-type {\n",
              "        vertical-align: middle;\n",
              "    }\n",
              "\n",
              "    .dataframe tbody tr th {\n",
              "        vertical-align: top;\n",
              "    }\n",
              "\n",
              "    .dataframe thead th {\n",
              "        text-align: right;\n",
              "    }\n",
              "</style>\n",
              "<table border=\"1\" class=\"dataframe\">\n",
              "  <thead>\n",
              "    <tr style=\"text-align: right;\">\n",
              "      <th></th>\n",
              "      <th>Fp1</th>\n",
              "      <th>Fp2</th>\n",
              "      <th>F3</th>\n",
              "      <th>F4</th>\n",
              "      <th>C3</th>\n",
              "      <th>C4</th>\n",
              "      <th>P3</th>\n",
              "      <th>P4</th>\n",
              "      <th>O1</th>\n",
              "      <th>O2</th>\n",
              "      <th>...</th>\n",
              "      <th>ExG 4</th>\n",
              "      <th>ECG.</th>\n",
              "      <th>Resp.</th>\n",
              "      <th>PPG</th>\n",
              "      <th>SpO2</th>\n",
              "      <th>HR</th>\n",
              "      <th>GSR</th>\n",
              "      <th>Temp.</th>\n",
              "      <th>Time</th>\n",
              "      <th>Caption</th>\n",
              "    </tr>\n",
              "  </thead>\n",
              "  <tbody>\n",
              "    <tr>\n",
              "      <th>0</th>\n",
              "      <td>-0.007219</td>\n",
              "      <td>-0.002130</td>\n",
              "      <td>0.000159</td>\n",
              "      <td>0.001061</td>\n",
              "      <td>0.003591</td>\n",
              "      <td>-0.000589</td>\n",
              "      <td>0.000366</td>\n",
              "      <td>-0.001565</td>\n",
              "      <td>-0.002582</td>\n",
              "      <td>-0.002542</td>\n",
              "      <td>...</td>\n",
              "      <td>-0.052083</td>\n",
              "      <td>-0.002146</td>\n",
              "      <td>39.018117</td>\n",
              "      <td>16433.000565</td>\n",
              "      <td>100.0</td>\n",
              "      <td>79.0</td>\n",
              "      <td>3652.219534</td>\n",
              "      <td>30.1875</td>\n",
              "      <td>0</td>\n",
              "      <td>0</td>\n",
              "    </tr>\n",
              "    <tr>\n",
              "      <th>1</th>\n",
              "      <td>-0.007219</td>\n",
              "      <td>-0.002131</td>\n",
              "      <td>0.000160</td>\n",
              "      <td>0.001058</td>\n",
              "      <td>0.003594</td>\n",
              "      <td>-0.000589</td>\n",
              "      <td>0.000365</td>\n",
              "      <td>-0.001565</td>\n",
              "      <td>-0.002581</td>\n",
              "      <td>-0.002542</td>\n",
              "      <td>...</td>\n",
              "      <td>-0.052083</td>\n",
              "      <td>-0.002148</td>\n",
              "      <td>39.018117</td>\n",
              "      <td>16433.000565</td>\n",
              "      <td>100.0</td>\n",
              "      <td>79.0</td>\n",
              "      <td>3652.219534</td>\n",
              "      <td>30.1875</td>\n",
              "      <td>0</td>\n",
              "      <td>0</td>\n",
              "    </tr>\n",
              "    <tr>\n",
              "      <th>2</th>\n",
              "      <td>-0.007219</td>\n",
              "      <td>-0.002130</td>\n",
              "      <td>0.000161</td>\n",
              "      <td>0.001056</td>\n",
              "      <td>0.003593</td>\n",
              "      <td>-0.000587</td>\n",
              "      <td>0.000362</td>\n",
              "      <td>-0.001563</td>\n",
              "      <td>-0.002582</td>\n",
              "      <td>-0.002544</td>\n",
              "      <td>...</td>\n",
              "      <td>-0.052083</td>\n",
              "      <td>-0.002147</td>\n",
              "      <td>39.018117</td>\n",
              "      <td>16433.000565</td>\n",
              "      <td>100.0</td>\n",
              "      <td>79.0</td>\n",
              "      <td>3652.219534</td>\n",
              "      <td>30.1875</td>\n",
              "      <td>0</td>\n",
              "      <td>0</td>\n",
              "    </tr>\n",
              "    <tr>\n",
              "      <th>3</th>\n",
              "      <td>-0.007221</td>\n",
              "      <td>-0.002132</td>\n",
              "      <td>0.000159</td>\n",
              "      <td>0.001057</td>\n",
              "      <td>0.003592</td>\n",
              "      <td>-0.000586</td>\n",
              "      <td>0.000364</td>\n",
              "      <td>-0.001561</td>\n",
              "      <td>-0.002581</td>\n",
              "      <td>-0.002542</td>\n",
              "      <td>...</td>\n",
              "      <td>-0.052083</td>\n",
              "      <td>-0.002146</td>\n",
              "      <td>39.018117</td>\n",
              "      <td>16433.000565</td>\n",
              "      <td>100.0</td>\n",
              "      <td>79.0</td>\n",
              "      <td>3652.219534</td>\n",
              "      <td>30.1875</td>\n",
              "      <td>0</td>\n",
              "      <td>0</td>\n",
              "    </tr>\n",
              "    <tr>\n",
              "      <th>4</th>\n",
              "      <td>-0.007225</td>\n",
              "      <td>-0.002137</td>\n",
              "      <td>0.000156</td>\n",
              "      <td>0.001054</td>\n",
              "      <td>0.003596</td>\n",
              "      <td>-0.000584</td>\n",
              "      <td>0.000371</td>\n",
              "      <td>-0.001557</td>\n",
              "      <td>-0.002577</td>\n",
              "      <td>-0.002536</td>\n",
              "      <td>...</td>\n",
              "      <td>-0.052083</td>\n",
              "      <td>-0.002143</td>\n",
              "      <td>39.018117</td>\n",
              "      <td>16421.999782</td>\n",
              "      <td>100.0</td>\n",
              "      <td>79.0</td>\n",
              "      <td>3652.219534</td>\n",
              "      <td>30.1875</td>\n",
              "      <td>0</td>\n",
              "      <td>0</td>\n",
              "    </tr>\n",
              "    <tr>\n",
              "      <th>...</th>\n",
              "      <td>...</td>\n",
              "      <td>...</td>\n",
              "      <td>...</td>\n",
              "      <td>...</td>\n",
              "      <td>...</td>\n",
              "      <td>...</td>\n",
              "      <td>...</td>\n",
              "      <td>...</td>\n",
              "      <td>...</td>\n",
              "      <td>...</td>\n",
              "      <td>...</td>\n",
              "      <td>...</td>\n",
              "      <td>...</td>\n",
              "      <td>...</td>\n",
              "      <td>...</td>\n",
              "      <td>...</td>\n",
              "      <td>...</td>\n",
              "      <td>...</td>\n",
              "      <td>...</td>\n",
              "      <td>...</td>\n",
              "      <td>...</td>\n",
              "    </tr>\n",
              "    <tr>\n",
              "      <th>111090</th>\n",
              "      <td>-0.007005</td>\n",
              "      <td>-0.001874</td>\n",
              "      <td>0.000007</td>\n",
              "      <td>0.001312</td>\n",
              "      <td>0.003813</td>\n",
              "      <td>-0.000324</td>\n",
              "      <td>0.000734</td>\n",
              "      <td>-0.001273</td>\n",
              "      <td>-0.002184</td>\n",
              "      <td>-0.001799</td>\n",
              "      <td>...</td>\n",
              "      <td>-0.052083</td>\n",
              "      <td>-0.001787</td>\n",
              "      <td>38.559619</td>\n",
              "      <td>16381.999478</td>\n",
              "      <td>100.0</td>\n",
              "      <td>76.0</td>\n",
              "      <td>3655.751467</td>\n",
              "      <td>30.2500</td>\n",
              "      <td>222</td>\n",
              "      <td>0</td>\n",
              "    </tr>\n",
              "    <tr>\n",
              "      <th>111091</th>\n",
              "      <td>-0.006997</td>\n",
              "      <td>-0.001871</td>\n",
              "      <td>0.000020</td>\n",
              "      <td>0.001307</td>\n",
              "      <td>0.003813</td>\n",
              "      <td>-0.000349</td>\n",
              "      <td>0.000727</td>\n",
              "      <td>-0.001277</td>\n",
              "      <td>-0.002190</td>\n",
              "      <td>-0.001802</td>\n",
              "      <td>...</td>\n",
              "      <td>-0.052083</td>\n",
              "      <td>-0.001790</td>\n",
              "      <td>38.559619</td>\n",
              "      <td>16381.999478</td>\n",
              "      <td>100.0</td>\n",
              "      <td>76.0</td>\n",
              "      <td>3655.751467</td>\n",
              "      <td>30.2500</td>\n",
              "      <td>222</td>\n",
              "      <td>0</td>\n",
              "    </tr>\n",
              "    <tr>\n",
              "      <th>111092</th>\n",
              "      <td>-0.006995</td>\n",
              "      <td>-0.001869</td>\n",
              "      <td>0.000023</td>\n",
              "      <td>0.001317</td>\n",
              "      <td>0.003802</td>\n",
              "      <td>-0.000337</td>\n",
              "      <td>0.000717</td>\n",
              "      <td>-0.001276</td>\n",
              "      <td>-0.002202</td>\n",
              "      <td>-0.001809</td>\n",
              "      <td>...</td>\n",
              "      <td>-0.052083</td>\n",
              "      <td>-0.001797</td>\n",
              "      <td>38.559619</td>\n",
              "      <td>16397.999600</td>\n",
              "      <td>100.0</td>\n",
              "      <td>76.0</td>\n",
              "      <td>3655.751467</td>\n",
              "      <td>30.2500</td>\n",
              "      <td>222</td>\n",
              "      <td>0</td>\n",
              "    </tr>\n",
              "    <tr>\n",
              "      <th>111093</th>\n",
              "      <td>-0.007004</td>\n",
              "      <td>-0.001868</td>\n",
              "      <td>0.000010</td>\n",
              "      <td>0.001330</td>\n",
              "      <td>0.003808</td>\n",
              "      <td>-0.000311</td>\n",
              "      <td>0.000725</td>\n",
              "      <td>-0.001279</td>\n",
              "      <td>-0.002203</td>\n",
              "      <td>-0.001813</td>\n",
              "      <td>...</td>\n",
              "      <td>-0.052083</td>\n",
              "      <td>-0.001799</td>\n",
              "      <td>38.559619</td>\n",
              "      <td>16397.999600</td>\n",
              "      <td>100.0</td>\n",
              "      <td>76.0</td>\n",
              "      <td>3655.751467</td>\n",
              "      <td>30.2500</td>\n",
              "      <td>222</td>\n",
              "      <td>0</td>\n",
              "    </tr>\n",
              "    <tr>\n",
              "      <th>111094</th>\n",
              "      <td>-0.007007</td>\n",
              "      <td>-0.001868</td>\n",
              "      <td>0.000007</td>\n",
              "      <td>0.001340</td>\n",
              "      <td>0.003810</td>\n",
              "      <td>-0.000309</td>\n",
              "      <td>0.000721</td>\n",
              "      <td>-0.001278</td>\n",
              "      <td>-0.002207</td>\n",
              "      <td>-0.001809</td>\n",
              "      <td>...</td>\n",
              "      <td>-0.052083</td>\n",
              "      <td>-0.001789</td>\n",
              "      <td>38.559619</td>\n",
              "      <td>16397.999600</td>\n",
              "      <td>100.0</td>\n",
              "      <td>76.0</td>\n",
              "      <td>3655.751467</td>\n",
              "      <td>30.2500</td>\n",
              "      <td>222</td>\n",
              "      <td>0</td>\n",
              "    </tr>\n",
              "  </tbody>\n",
              "</table>\n",
              "<p>111095 rows × 76 columns</p>\n",
              "</div>\n",
              "      <button class=\"colab-df-convert\" onclick=\"convertToInteractive('df-634faa3d-8b27-4dba-88fb-4f4633687abb')\"\n",
              "              title=\"Convert this dataframe to an interactive table.\"\n",
              "              style=\"display:none;\">\n",
              "        \n",
              "  <svg xmlns=\"http://www.w3.org/2000/svg\" height=\"24px\"viewBox=\"0 0 24 24\"\n",
              "       width=\"24px\">\n",
              "    <path d=\"M0 0h24v24H0V0z\" fill=\"none\"/>\n",
              "    <path d=\"M18.56 5.44l.94 2.06.94-2.06 2.06-.94-2.06-.94-.94-2.06-.94 2.06-2.06.94zm-11 1L8.5 8.5l.94-2.06 2.06-.94-2.06-.94L8.5 2.5l-.94 2.06-2.06.94zm10 10l.94 2.06.94-2.06 2.06-.94-2.06-.94-.94-2.06-.94 2.06-2.06.94z\"/><path d=\"M17.41 7.96l-1.37-1.37c-.4-.4-.92-.59-1.43-.59-.52 0-1.04.2-1.43.59L10.3 9.45l-7.72 7.72c-.78.78-.78 2.05 0 2.83L4 21.41c.39.39.9.59 1.41.59.51 0 1.02-.2 1.41-.59l7.78-7.78 2.81-2.81c.8-.78.8-2.07 0-2.86zM5.41 20L4 18.59l7.72-7.72 1.47 1.35L5.41 20z\"/>\n",
              "  </svg>\n",
              "      </button>\n",
              "      \n",
              "  <style>\n",
              "    .colab-df-container {\n",
              "      display:flex;\n",
              "      flex-wrap:wrap;\n",
              "      gap: 12px;\n",
              "    }\n",
              "\n",
              "    .colab-df-convert {\n",
              "      background-color: #E8F0FE;\n",
              "      border: none;\n",
              "      border-radius: 50%;\n",
              "      cursor: pointer;\n",
              "      display: none;\n",
              "      fill: #1967D2;\n",
              "      height: 32px;\n",
              "      padding: 0 0 0 0;\n",
              "      width: 32px;\n",
              "    }\n",
              "\n",
              "    .colab-df-convert:hover {\n",
              "      background-color: #E2EBFA;\n",
              "      box-shadow: 0px 1px 2px rgba(60, 64, 67, 0.3), 0px 1px 3px 1px rgba(60, 64, 67, 0.15);\n",
              "      fill: #174EA6;\n",
              "    }\n",
              "\n",
              "    [theme=dark] .colab-df-convert {\n",
              "      background-color: #3B4455;\n",
              "      fill: #D2E3FC;\n",
              "    }\n",
              "\n",
              "    [theme=dark] .colab-df-convert:hover {\n",
              "      background-color: #434B5C;\n",
              "      box-shadow: 0px 1px 3px 1px rgba(0, 0, 0, 0.15);\n",
              "      filter: drop-shadow(0px 1px 2px rgba(0, 0, 0, 0.3));\n",
              "      fill: #FFFFFF;\n",
              "    }\n",
              "  </style>\n",
              "\n",
              "      <script>\n",
              "        const buttonEl =\n",
              "          document.querySelector('#df-634faa3d-8b27-4dba-88fb-4f4633687abb button.colab-df-convert');\n",
              "        buttonEl.style.display =\n",
              "          google.colab.kernel.accessAllowed ? 'block' : 'none';\n",
              "\n",
              "        async function convertToInteractive(key) {\n",
              "          const element = document.querySelector('#df-634faa3d-8b27-4dba-88fb-4f4633687abb');\n",
              "          const dataTable =\n",
              "            await google.colab.kernel.invokeFunction('convertToInteractive',\n",
              "                                                     [key], {});\n",
              "          if (!dataTable) return;\n",
              "\n",
              "          const docLinkHtml = 'Like what you see? Visit the ' +\n",
              "            '<a target=\"_blank\" href=https://colab.research.google.com/notebooks/data_table.ipynb>data table notebook</a>'\n",
              "            + ' to learn more about interactive tables.';\n",
              "          element.innerHTML = '';\n",
              "          dataTable['output_type'] = 'display_data';\n",
              "          await google.colab.output.renderOutput(dataTable, element);\n",
              "          const docLink = document.createElement('div');\n",
              "          docLink.innerHTML = docLinkHtml;\n",
              "          element.appendChild(docLink);\n",
              "        }\n",
              "      </script>\n",
              "    </div>\n",
              "  </div>\n",
              "  "
            ]
          },
          "metadata": {},
          "execution_count": 14
        }
      ],
      "source": [
        "df_eeg_data"
      ]
    },
    {
      "cell_type": "code",
      "execution_count": null,
      "metadata": {
        "id": "Lj2yGtWBPf5J"
      },
      "outputs": [],
      "source": [
        "fftsize = 512\n",
        "sampleduration = 1 / samplerate * fftsize"
      ]
    },
    {
      "cell_type": "code",
      "execution_count": null,
      "metadata": {
        "id": "BeURiXmgPIik"
      },
      "outputs": [],
      "source": [
        "fakefreq = 20\n",
        "fakedata = {\"T\": [np.cos(np.pi * 2 / sampleduration / fftsize * fakefreq * t) for t in range(fftsize * 4)]}"
      ]
    },
    {
      "cell_type": "code",
      "execution_count": null,
      "metadata": {
        "id": "gHy2E5COE_6W"
      },
      "outputs": [],
      "source": [
        "def do_fft(data, label):\n",
        "  start = time.time()\n",
        "  fft = [1 / fftsize * np.fft.fft(data[label][i:i+fftsize]) for i in range(len(data[label]) - fftsize)] + [[0] * fftsize] * fftsize\n",
        "  # Create tolerance threshold\n",
        "  threshold = np.max(np.abs(fft)) / 10000\n",
        "  fft2 = np.where(np.abs(fft) >= threshold, fft, 0)\n",
        "  data[label + \"phase\"] = [np.arctan2(np.imag(X), np.real(X)) * 180 / np.pi for X in fft2]\n",
        "  del fft2\n",
        "  data[label + \"fft\"] = fft\n",
        "  del fft\n",
        "  print(\"Performed fft for\", label, f\"(took {round(time.time() - start, 2)} seconds)\")"
      ]
    },
    {
      "cell_type": "code",
      "execution_count": null,
      "metadata": {
        "id": "mFe2D4P9PxY1"
      },
      "outputs": [],
      "source": [
        "#do_fft(fakedata, \"T\")"
      ]
    },
    {
      "cell_type": "code",
      "execution_count": null,
      "metadata": {
        "id": "tx7BAaGIHG21",
        "colab": {
          "base_uri": "https://localhost:8080/"
        },
        "outputId": "610f0aec-a6a7-4bd3-ccf7-a17c111a5bb6"
      },
      "outputs": [
        {
          "output_type": "stream",
          "name": "stdout",
          "text": [
            "Performed fft for FT7 (took 20.54 seconds)\n"
          ]
        }
      ],
      "source": [
        "do_fft(df_eeg_data, \"FT7\")"
      ]
    },
    {
      "cell_type": "code",
      "execution_count": null,
      "metadata": {
        "id": "1zD40Qn_bkUK"
      },
      "outputs": [],
      "source": [
        "rng = np.arange(-fftsize / 2, fftsize / 2) * sampleduration / fftsize"
      ]
    },
    {
      "cell_type": "code",
      "execution_count": null,
      "metadata": {
        "id": "S7YxauXeUIS_"
      },
      "outputs": [],
      "source": [
        "def show_fft_data(frame_fft, frame_phase, signal=None, show=True, _start=0):\n",
        "  graphs = [\n",
        "    dcc.Graph(\n",
        "        id=\"Graph1\",\n",
        "        figure={\n",
        "            \"data\": [\n",
        "                {\"x\": rng, \"y\": [np.abs(a) for a in frame_fft[1:]], \"type\": \"line\", \"name\": \"magnitude\"},\n",
        "                {\"x\": rng, \"y\": [0] * fftsize, \"type\": \"line\", \"name\": \"Baseline\"},\n",
        "            ],\n",
        "\n",
        "            \"layout\": {\n",
        "                \"title\": \"FFT\",\n",
        "                \"xaxis\": {\"title\": \"Frequency (Hz)\"},\n",
        "                \"yaxis\": {\"title\": \"Magnitude\"}\n",
        "            }\n",
        "        }\n",
        "    ),\n",
        "    dcc.Graph(\n",
        "        id=\"Graph2\",\n",
        "        figure={\n",
        "            \"data\": [\n",
        "                {\"x\": rng, \"y\": [abs(a) for a in frame_phase[1:]], \"type\": \"line\", \"name\": \"phase\"},\n",
        "                {\"x\": rng, \"y\": [0] * fftsize, \"type\": \"line\", \"name\": \"Baseline\"},\n",
        "            ],\n",
        "\n",
        "            \"layout\": {\n",
        "                \"title\": \"FFT Phase\",\n",
        "                \"xaxis\": {\"title\": \"Phase\"},\n",
        "                \"yaxis\": {\"title\": \"Frequency (Hz)\"}\n",
        "            }\n",
        "        }\n",
        "    ),\n",
        "  ]\n",
        "\n",
        "  if signal is not None:\n",
        "    sigrng = np.arange(0, fftsize) / fftsize * sampleduration\n",
        "    graphs.insert(0, dcc.Graph(\n",
        "        id=\"Graph3\",\n",
        "        figure={\n",
        "            \"data\": [\n",
        "                {\"x\": sigrng, \"y\": signal[_start:_start+fftsize], \"type\": \"line\", \"name\": \"phase\"},\n",
        "                {\"x\": sigrng, \"y\": [0] * fftsize, \"type\": \"line\", \"name\": \"Baseline\"},\n",
        "            ],\n",
        "\n",
        "            \"layout\": {\n",
        "                \"title\": \"Signal\",\n",
        "                \"xaxis\": {\"title\": \"Time\"},\n",
        "                \"yaxis\": {\"title\": \"Amplitude\"}\n",
        "            }\n",
        "        }\n",
        "    ))\n",
        "  \n",
        "  if show:\n",
        "    # Create app\n",
        "    app = JupyterDash(\"Graphs\")\n",
        "\n",
        "    # Realtime bug workaround from 11 hours ago, hot off the presses\n",
        "    # https://github.com/plotly/dash/issues/1907#issuecomment-1035931483\n",
        "    del app.config._read_only[\"requests_pathname_prefix\"]\n",
        "    app.layout = html.Div(children=graphs)\n",
        "\n",
        "    ###!!!! WARNING! The JupyterDash class is apparently very inefficient the first time it runs.\n",
        "    ###!!!!          It may take up to ten seconds to load, during which the output will initially\n",
        "    ###!!!!          appear to be blank. DO NOT FEAR! It will eventually be populated.\n",
        "    app.run_server(mode=\"inline\", debug=True)\n",
        "  \n",
        "  return graphs"
      ]
    },
    {
      "cell_type": "code",
      "execution_count": null,
      "metadata": {
        "id": "BOWXRBTgRyd9",
        "colab": {
          "base_uri": "https://localhost:8080/"
        },
        "outputId": "3cd9b62c-e853-4134-be73-8272d33a6af5"
      },
      "outputs": [
        {
          "output_type": "stream",
          "name": "stdout",
          "text": [
            "Index(['Fp1', 'Fp2', 'F3', 'F4', 'C3', 'C4', 'P3', 'P4', 'O1', 'O2', 'F7',\n",
            "       'F8', 'T8', 'P7', 'P8', 'Fz', 'Cz', 'Pz', 'Oz', 'FC1', 'FC2', 'CP1',\n",
            "       'CP2', 'FC5', 'FC6', 'CP5', 'CP6', 'FT9', 'FT10', 'FCz', 'AFz', 'F1',\n",
            "       'F2', 'C1', 'C2', 'P1', 'P2', 'AF3', 'AF4', 'FC3', 'FC4', 'CP3', 'CP4',\n",
            "       'PO3', 'PO4', 'F5', 'F6', 'C5', 'C6', 'P5', 'P6', 'AF7', 'AF8', 'FT7',\n",
            "       'FT8', 'TP7', 'TP8', 'PO7', 'PO8', 'Fpz', 'CPz', 'POz', 'TP10', 'ExG 1',\n",
            "       'ExG 2', 'ExG 3', 'ExG 4', 'ECG.', 'Resp.', 'PPG', 'SpO2', 'HR', 'GSR',\n",
            "       'Temp.', 'Time', 'Caption', 'FT7phase', 'FT7fft'],\n",
            "      dtype='object')\n"
          ]
        }
      ],
      "source": [
        "should_show_test_data = False #@param {\"type\": \"boolean\"}\n",
        "print(df_eeg_data.keys())\n",
        "if should_show_test_data: show_fft_data(df_eeg_data[\"FT7fft\"][0], df_eeg_data[\"FT7phase\"][0], df_eeg_data[\"Time\"])"
      ]
    },
    {
      "cell_type": "code",
      "execution_count": null,
      "metadata": {
        "id": "88vaRZEcGeZc",
        "colab": {
          "base_uri": "https://localhost:8080/",
          "height": 265
        },
        "outputId": "5a1b3e81-0a7f-4983-ca22-4756958cd1e3"
      },
      "outputs": [
        {
          "output_type": "display_data",
          "data": {
            "text/plain": [
              "<Figure size 432x288 with 1 Axes>"
            ],
            "image/png": "[encoded data removed]"
          },
          "metadata": {
            "needs_background": "light"
          }
        }
      ],
      "source": [
        "plt.plot(df_eeg_data[:500][\"Time\"], df_eeg_data[:500][\"FT7\"])\n",
        "plt.show()"
      ]
    },
    {
      "cell_type": "code",
      "execution_count": null,
      "metadata": {
        "id": "eyOe4ogeRj28"
      },
      "outputs": [],
      "source": [
        "# Normalization, correlation data used for EDA + Data Preprocessing\n",
        "norm_df_eeg_data = (df_eeg_data - df_eeg_data.mean()) / df_eeg_data.std()\n",
        "looking_for_indices = [int(\"you\" in caption_text[int(i / samplerate)].split()) for i in range(len(norm_df_eeg_data))]\n",
        "\n",
        "norm_df_eeg_data[\"Has_You\"] = looking_for_indices\n",
        "corr_matrix = norm_df_eeg_data.corr()"
      ]
    },
    {
      "cell_type": "code",
      "execution_count": null,
      "metadata": {
        "id": "TZIahN4LydtW",
        "colab": {
          "base_uri": "https://localhost:8080/"
        },
        "outputId": "08ce7ff0-f50d-4e7d-c5b8-c7bf0d49469d"
      },
      "outputs": [
        {
          "output_type": "stream",
          "name": "stdout",
          "text": [
            "['FT7fft', 'FT7phase']\n"
          ]
        }
      ],
      "source": [
        "# Principle Component Analysis\n",
        "from sklearn.decomposition import PCA\n",
        "from sklearn.preprocessing import MinMaxScaler\n",
        "\n",
        "n = 2\n",
        "pca = PCA(n_components=n)\n",
        "print(norm_df_eeg_data.columns[norm_df_eeg_data.isna().any()].tolist())\n",
        "filtered_eeg_data = norm_df_eeg_data.drop(['FT7fft', 'FT7phase'], axis=1)\n",
        "pc = pca.fit_transform(filtered_eeg_data)\n",
        "pc_df = pd.DataFrame(data=pc, columns=[f'PC{i}' for i in range(n)])\n",
        "var_df = pd.DataFrame({'var':pca.explained_variance_ratio_, 'PC':[f'PC{i}' for i in range(n)]})"
      ]
    },
    {
      "cell_type": "markdown",
      "metadata": {
        "id": "R-Brg9Qn0IIc"
      },
      "source": [
        "# Initial EDA Dashboard\n",
        "Shows Correlation Heatmap along with PCA = 2 scatterplot. Dropdown allows users to select which features they want to see correlations for.\n",
        "\n",
        "TODO:\n",
        " - Set heatmap color scale to be static (-1, 1)\n",
        " - Improve padding between graphs\n",
        " - Add some per-feature graphs"
      ]
    },
    {
      "cell_type": "code",
      "execution_count": null,
      "metadata": {
        "id": "NhwsRvFXv21V",
        "colab": {
          "base_uri": "https://localhost:8080/"
        },
        "outputId": "38c28814-69c7-4d77-93fd-95ffa7a666d9"
      },
      "outputs": [
        {
          "output_type": "stream",
          "name": "stderr",
          "text": [
            "/usr/local/lib/python3.7/dist-packages/nltk/twitter/__init__.py:20: UserWarning: The twython library has not been installed. Some functionality from the twitter package will not be available.\n",
            "  warnings.warn(\"The twython library has not been installed. \"\n"
          ]
        }
      ],
      "source": [
        "from nltk.sentiment.vader import SentimentIntensityAnalyzer"
      ]
    },
    {
      "cell_type": "code",
      "execution_count": null,
      "metadata": {
        "id": "g_mPaSE4ydGm",
        "colab": {
          "base_uri": "https://localhost:8080/"
        },
        "outputId": "c94a9afd-fd6f-43de-ebb3-5b46a9c58fd0"
      },
      "outputs": [
        {
          "output_type": "execute_result",
          "data": {
            "text/plain": [
              "0         0\n",
              "1         0\n",
              "2         0\n",
              "3         0\n",
              "4         0\n",
              "         ..\n",
              "111090    0\n",
              "111091    0\n",
              "111092    0\n",
              "111093    0\n",
              "111094    0\n",
              "Name: Caption, Length: 111095, dtype: int64"
            ]
          },
          "metadata": {},
          "execution_count": 28
        }
      ],
      "source": [
        "df_eeg_data[\"Caption\"]"
      ]
    },
    {
      "cell_type": "code",
      "execution_count": null,
      "metadata": {
        "id": "qcPrNTF67evY"
      },
      "outputs": [],
      "source": [
        "#import plotly.express as px\n",
        "#px.data.tips()"
      ]
    },
    {
      "cell_type": "code",
      "execution_count": null,
      "metadata": {
        "id": "s0DSnS-Zyw5u",
        "colab": {
          "base_uri": "https://localhost:8080/",
          "height": 105
        },
        "outputId": "fc50ee65-74e5-4913-93e0-aeea5e8089e2"
      },
      "outputs": [
        {
          "output_type": "execute_result",
          "data": {
            "text/plain": [
              "'# Create app\\napp = JupyterDash(\"EDA\")\\n\\n# Realtime bug workaround from 11 hours ago, hot off the presses\\n# https://github.com/plotly/dash/issues/1907#issuecomment-1035931483\\ndel app.config._read_only[\"requests_pathname_prefix\"]\\n\\n@app.callback(\\n    Output(component_id=\\'eda_corr\\', component_property=\\'figure\\'),\\n    Input(component_id=\\'eda_feats\\', component_property=\\'value\\')\\n)\\ndef update_corr_fig(input_value):\\n    cols_idx = [corr_matrix.columns.get_loc(c) for c in input_value]\\n    filtered_corr_mat = corr_matrix[input_value].iloc[cols_idx]\\n    corr_fig = px.imshow(filtered_corr_mat, color_continuous_scale=\\'RdBu_r\\')\\n    corr_fig.update_layout(transition_duration=500)\\n    return corr_fig\\npca_fig = px.scatter(pc_df, x=\\'PC0\\', y=\\'PC1\\')\\n\\n\\n@app.callback(\\n    Output(component_id=\\'live-update\\', component_property=\\'children\\'),\\n    Input(component_id=\\'interval1\\', component_property=\\'n_intervals\\')\\n)\\ndef _blah(n):\\n  # Callback hook\\n  return update_metrics(n)\\n\\napp.layout = html.Div(children=[\\n    html.H1(children=\\'MINTS Biometric Analysis\\'),\\n    html.Div(children=[\\n        html.H2(children=\\'Exploratory Data Analysis\\'),\\n        html.Div(children=[\\n            html.H3(children=\\'Correlations\\'),\\n            html.Div(children=[\\n                html.Div(children=[\\n                    html.H4(children=\\'Data Features\\'),\\n                    dcc.Dropdown(id=\\'eda_feats\\', options=corr_matrix.columns, value=corr_matrix.columns, multi=True),\\n                ], style={\\'display\\': \\'inline-block\\', \\'width\\': \\'50%\\', \\'vertical-align\\': \\'top\\'}),\\n                html.Div(children=[\\n                    dcc.Graph(id=\\'eda_corr\\')  \\n                ], style={\\'display\\': \\'inline-block\\', \\'width\\': \\'50%\\', \\'vertical-align\\': \\'top\\'})\\n            ])\\n        ], style={\\'display\\': \\'inline-block\\', \\'width\\': \\'50%\\', \\'vertical-align\\': \\'top\\'}),\\n        html.Div(children=[\\n            html.H4(children=\\'Principle Component Analysis\\'),\\n            dcc.Graph(id=\\'eda_pca\\', figure=pca_fig)\\n        ], style={\\'display\\': \\'inline-block\\', \\'width\\': \\'50%\\', \\'vertical-align\\': \\'top\\'})\\n    ]),\\n    html.H1(children=\"Live Project Metrics\"),\\n    html.Div(id=\\'live-update\\'),\\n    dcc.Interval(id=\\'interval1\\', interval=500, n_intervals=0)\\n])\\n\\n#app.run_server(mode=\\'inline\\', debug=True, host=\\'localhost\\', port=1051)'"
            ],
            "application/vnd.google.colaboratory.intrinsic+json": {
              "type": "string"
            }
          },
          "metadata": {},
          "execution_count": 30
        }
      ],
      "source": [
        "from dash import Input, Output\n",
        "import plotly.express as px\n",
        "import math\n",
        "\n",
        "'''# Create app\n",
        "app = JupyterDash(\"EDA\")\n",
        "\n",
        "# Realtime bug workaround from 11 hours ago, hot off the presses\n",
        "# https://github.com/plotly/dash/issues/1907#issuecomment-1035931483\n",
        "del app.config._read_only[\"requests_pathname_prefix\"]\n",
        "\n",
        "@app.callback(\n",
        "    Output(component_id='eda_corr', component_property='figure'),\n",
        "    Input(component_id='eda_feats', component_property='value')\n",
        ")\n",
        "def update_corr_fig(input_value):\n",
        "    cols_idx = [corr_matrix.columns.get_loc(c) for c in input_value]\n",
        "    filtered_corr_mat = corr_matrix[input_value].iloc[cols_idx]\n",
        "    corr_fig = px.imshow(filtered_corr_mat, color_continuous_scale='RdBu_r')\n",
        "    corr_fig.update_layout(transition_duration=500)\n",
        "    return corr_fig\n",
        "pca_fig = px.scatter(pc_df, x='PC0', y='PC1')\n",
        "\n",
        "\n",
        "@app.callback(\n",
        "    Output(component_id='live-update', component_property='children'),\n",
        "    Input(component_id='interval1', component_property='n_intervals')\n",
        ")\n",
        "def _blah(n):\n",
        "  # Callback hook\n",
        "  return update_metrics(n)\n",
        "\n",
        "app.layout = html.Div(children=[\n",
        "    html.H1(children='MINTS Biometric Analysis'),\n",
        "    html.Div(children=[\n",
        "        html.H2(children='Exploratory Data Analysis'),\n",
        "        html.Div(children=[\n",
        "            html.H3(children='Correlations'),\n",
        "            html.Div(children=[\n",
        "                html.Div(children=[\n",
        "                    html.H4(children='Data Features'),\n",
        "                    dcc.Dropdown(id='eda_feats', options=corr_matrix.columns, value=corr_matrix.columns, multi=True),\n",
        "                ], style={'display': 'inline-block', 'width': '50%', 'vertical-align': 'top'}),\n",
        "                html.Div(children=[\n",
        "                    dcc.Graph(id='eda_corr')  \n",
        "                ], style={'display': 'inline-block', 'width': '50%', 'vertical-align': 'top'})\n",
        "            ])\n",
        "        ], style={'display': 'inline-block', 'width': '50%', 'vertical-align': 'top'}),\n",
        "        html.Div(children=[\n",
        "            html.H4(children='Principle Component Analysis'),\n",
        "            dcc.Graph(id='eda_pca', figure=pca_fig)\n",
        "        ], style={'display': 'inline-block', 'width': '50%', 'vertical-align': 'top'})\n",
        "    ]),\n",
        "    html.H1(children=\"Live Project Metrics\"),\n",
        "    html.Div(id='live-update'),\n",
        "    dcc.Interval(id='interval1', interval=500, n_intervals=0)\n",
        "])\n",
        "\n",
        "#app.run_server(mode='inline', debug=True, host='localhost', port=1051)'''"
      ]
    },
    {
      "cell_type": "code",
      "source": [
        "srate = 512\n",
        "\n",
        "def get_timestamp(i):\n",
        "  timestamp = str(math.floor(i / srate / 3600) % 60).rjust(2, '0') + \":\" + str(math.floor(i / srate / 60) % 60).rjust(2, '0') + \":\"\n",
        "  timestamp += str(math.floor(i / srate) % 60).rjust(2, '0')\n",
        "  return timestamp"
      ],
      "metadata": {
        "id": "DHPHF-vNfihE"
      },
      "execution_count": null,
      "outputs": []
    },
    {
      "cell_type": "code",
      "execution_count": null,
      "metadata": {
        "id": "SRF59eODOQqb"
      },
      "outputs": [],
      "source": [
        "framewindow = 10\n",
        "_res = None\n",
        "\n",
        "sid = SentimentIntensityAnalyzer()\n",
        "def update_metrics(slider):\n",
        "  global _res\n",
        "  i = max(0, slider * srate - 1) # int((time.time() - start) * srate) % len(df_eeg_data[\"FT7fft\"])\n",
        "  if i > len(df_eeg_data):\n",
        "    return dash.no_update, \"Index \" + str(i) + \" out of bounds\"\n",
        "  word = caption_text[df_eeg_data[\"Caption\"][i]]\n",
        "  _words = word.strip().split()\n",
        "  #print(\"A\")\n",
        "  scores = sid.polarity_scores(word)\n",
        "  #print(\"B\")\n",
        "  timestamp = get_timestamp(i)\n",
        "  sentiment = [\n",
        "    html.H2(\"Sentiment Analysis\"),\n",
        "    html.Div(children=[\"Word: \" + repr(word).replace(\"'\", '\"')]),\n",
        "    html.Div(children=[\"Timestamp: \" + timestamp]),\n",
        "    html.Div(children=[\"Sentiment analysis: \" + \", \".join(\"{0}: {1}\".format(k, scores[k]) for k in sorted(scores.keys()))])\n",
        "  ]\n",
        "  vader_results = {word: sid.polarity_scores(word) for word in _words}\n",
        "  graph_data = {\"neu\": [vader_results[word][\"neu\"] for word in _words],\n",
        "                \"word\": _words}\n",
        "\n",
        "  '''sentiment.append(dcc.Graph(\n",
        "      figure=px.bar(\n",
        "          graph_data, x=\"word\", y=\"neu\",\n",
        "          color=[\"neu\"]\n",
        "      )\n",
        "  ))'''\n",
        "  \n",
        "  #print(\"C\")\n",
        "  # https://docs.scipy.org/doc/scipy/reference/generated/scipy.signal.welch.html ?\n",
        "  results = show_fft_data(df_eeg_data[\"FT7fft\"][i], df_eeg_data[\"FT7phase\"][i], df_eeg_data[\"Time\"], show=False, _start=i)\n",
        "  results = [\n",
        "    html.Div(style={\"display\": \"flex\"}, children=results[:2])\n",
        "  ] + results[2:]\n",
        "  results = results + sentiment\n",
        "  #print(results)\n",
        "  _res = (time.time(), results)\n",
        "  return results"
      ]
    },
    {
      "cell_type": "code",
      "source": [
        "from urllib.request import urlopen, Request\n",
        "from io import BytesIO\n",
        "from PIL import Image\n",
        "\n",
        "user_agent = \"MINTSRequester/1.0\" #\"Mozilla/5.0 (Windows NT 10.0; Win64; x64) AppleWebKit/537.36 (KHTML, like Gecko) Chrome/99.0.4844.83 Safari/537.36\"\n",
        "bio = BytesIO(urlopen(Request(\"https://cdn.discordapp.com/attachments/911339282537529419/956940719648563250/EEG_10-10_system.png\", headers={\"User-Agent\": user_agent})).read())\n",
        "\n",
        "# eeg_img = np.array(Image.new(\"RGB\", (500, 500), color=(255, 255, 255)))\n",
        "eeg_img = np.array(Image.open(bio).convert('RGB'))"
      ],
      "metadata": {
        "id": "MKZaQKQRvZ6W"
      },
      "execution_count": null,
      "outputs": []
    },
    {
      "cell_type": "code",
      "execution_count": null,
      "metadata": {
        "id": "iblpXUNt-FK-",
        "colab": {
          "base_uri": "https://localhost:8080/",
          "height": 671
        },
        "outputId": "b1f8fb92-c6cd-495c-ed3f-0ff52feb1dd1"
      },
      "outputs": [
        {
          "output_type": "display_data",
          "data": {
            "text/plain": [
              "<IPython.core.display.Javascript object>"
            ],
            "application/javascript": [
              "(async (port, path, width, height, cache, element) => {\n",
              "    if (!google.colab.kernel.accessAllowed && !cache) {\n",
              "      return;\n",
              "    }\n",
              "    element.appendChild(document.createTextNode(''));\n",
              "    const url = await google.colab.kernel.proxyPort(port, {cache});\n",
              "    const iframe = document.createElement('iframe');\n",
              "    iframe.src = new URL(path, url).toString();\n",
              "    iframe.height = height;\n",
              "    iframe.width = width;\n",
              "    iframe.style.border = 0;\n",
              "    element.appendChild(iframe);\n",
              "  })(1051, \"/\", \"100%\", 650, false, window.element)"
            ]
          },
          "metadata": {}
        }
      ],
      "source": [
        "\"\"\"\n",
        "Usaid's just-added stuff\n",
        "df_eeg_data = normalized (norm_df_eeg_data)\n",
        "df_raw_data = df_eeg_data (no normalization)\n",
        "\"\"\"\n",
        "from jupyter_dash import JupyterDash\n",
        "from dash import Dash, html, dcc, Input, Output, State\n",
        "import plotly.express as px\n",
        "import plotly.graph_objects as go\n",
        "import pandas as pd\n",
        "\n",
        "external_sheets = [\"https://fonts.googleapis.com/icon?family=Material+Icons\"]\n",
        "\n",
        "app = JupyterDash(__name__, external_stylesheets=external_sheets)\n",
        "\n",
        "@app.callback(\n",
        "    Output(component_id='eda_corr', component_property='figure'),\n",
        "    Input(component_id='eda_feats', component_property='value')\n",
        ")\n",
        "def update_corr_fig(input_value):\n",
        "    cols_idx = [corr_matrix.columns.get_loc(c) for c in input_value]\n",
        "    filtered_corr_mat = corr_matrix[input_value].iloc[cols_idx]\n",
        "    corr_fig = px.imshow(filtered_corr_mat, color_continuous_scale='RdBu_r', title='Pearson-Coefficient Heatmap', range_color=[-1, 1])\n",
        "    corr_fig.update_layout(transition_duration=500)\n",
        "    return corr_fig\n",
        "\n",
        "def display_time_series(series_feature):\n",
        "    fig = go.Figure()\n",
        "    for feat in series_feature:\n",
        "        fig.add_trace(go.Scatter(x=df_eeg_data[feat].index, y=df_eeg_data[feat].values, name=feat))\n",
        "    return fig\n",
        "\n",
        "\n",
        "@app.callback(\n",
        "    Output('time_series', 'figure'),\n",
        "    Input('eda_feats', 'value')\n",
        ")\n",
        "def update_time_series(series_feature):\n",
        "  return display_time_series(series_feature)\n",
        "\n",
        "def eeg_heatmap(slider):\n",
        "    pos = \\\n",
        "        {\n",
        "            'FC2': [(288, 215), (315, 242)],\n",
        "            'Iz': [(243, 499), (269, 526)],\n",
        "            'T7': [(53, 262), (80, 288)],\n",
        "            'C1': [(195, 261), (222, 288)],\n",
        "            'C3': [(147, 261), (174, 288)],\n",
        "            'F6': [(361, 159), (387, 186)],\n",
        "            'CPz': [(243, 308), (269, 335)],\n",
        "            'O1': [(184, 443), (211, 470)],\n",
        "            'Fpz': [(243, 72), (269, 99)],\n",
        "            'Ft10': [(469, 188), (496, 215)],\n",
        "            'FC6': [(378, 209), (405, 236)],\n",
        "            'CP5': [(107, 314), (134, 341)],\n",
        "            'Fz': [(243, 166), (270, 193)],\n",
        "            'AF4': [(301, 119), (328, 146)],\n",
        "            'P9': [(44, 393), (71, 420)],\n",
        "            'O2': [(301, 443), (328, 470)],\n",
        "            'Cz': [(243, 262), (269, 288)],\n",
        "            'CP6': [(378, 314), (405, 341)],\n",
        "            'CP2': [(288, 309), (315, 336)],\n",
        "            'P7': [(89, 374), (116, 401)],\n",
        "            'T8': [(432, 262), (459, 288)],\n",
        "            'P8': [(396, 374), (423, 401)],\n",
        "            'FT9': [(16, 188), (43, 215)],\n",
        "            'PO3': [(185, 407), (212, 434)],\n",
        "            'P6': [(360, 365), (387, 392)],\n",
        "            'F4': [(322, 163), (349, 190)],\n",
        "            'Fp2': [(301, 82), (327, 109)],\n",
        "            'FCz': [(243, 214), (269, 241)],\n",
        "            'T9': [(5, 261), (32, 288)],\n",
        "            'FC3': [(153, 212), (180, 239)],\n",
        "            'C6': [(385, 262), (412, 288)],\n",
        "            'AF8': [(355, 110), (382, 137)],\n",
        "            'POz': [(243, 403), (270, 430)],\n",
        "            'F3': [(163, 163), (190, 190)],\n",
        "            'F10': [(441, 131), (468, 158)],\n",
        "            'C4': [(338, 261), (365, 288)],\n",
        "            'Pz': [(243, 357), (269, 384)],\n",
        "            'P2': [(281, 358), (308, 385)],\n",
        "            'FT10': [(469, 188), (495, 215)],\n",
        "            'P5': [(125, 365), (152, 392)],\n",
        "            'T10': [(480, 262), (507, 288)],\n",
        "            'P1': [(204, 358), (231, 385)],\n",
        "            'FC5': [(107, 209), (134, 236)],\n",
        "            'P10': [(442, 393), (469, 420)],\n",
        "            'CP3': [(152, 313), (179, 340)],\n",
        "            'F2': [(281, 166), (308, 193)],\n",
        "            'F1': [(204, 166), (231, 193)],\n",
        "            'TP9': [(17, 335), (44, 362)],\n",
        "            'P3': [(164, 360), (190, 387)],\n",
        "            'FT7': [(63, 203), (90, 230)],\n",
        "            'AF7': [(130, 110), (157, 137)],\n",
        "            'PO4': [(300, 407), (327, 434)],\n",
        "            'F5': [(124, 159), (151, 186)],\n",
        "            'PO8': [(354, 416), (381, 443)],\n",
        "            'TP7': [(63, 321), (90, 348)],\n",
        "            'P4': [(322, 360), (348, 387)],\n",
        "            'CP1': [(197, 309), (224, 336)],\n",
        "            'F9': [(44, 131), (71, 158)],\n",
        "            'AF3': [(184, 119), (211, 146)],\n",
        "            'CP4': [(333, 313), (360, 340)],\n",
        "            'Oz': [(243, 452), (269, 479)],\n",
        "            'TP10': [(468, 335), (495, 362)],\n",
        "            'C2': [(290, 261), (317, 288)],\n",
        "            'F7': [(89, 150), (116, 177)],\n",
        "            'AFz': [(243, 120), (269, 147)],\n",
        "            'Fp1': [(185, 82), (211, 109)],\n",
        "            'Nz': [(243, 24), (269, 51)],\n",
        "            'PO7': [(131, 416), (158, 443)],\n",
        "            'F8': [(396, 150), (423, 177)],\n",
        "            'FT8': [(422, 203), (449, 230)],\n",
        "            'FC1': [(197, 215), (224, 242)],\n",
        "            'C5': [(100, 262), (127, 288)],\n",
        "            'TP8': [(422, 321), (449, 348)],\n",
        "            'FC4': [(332, 212), (359, 239)],\n",
        "        }\n",
        "    fig = px.imshow(eeg_img)\n",
        "    for feat in df_eeg_data.columns:\n",
        "        if feat in pos:\n",
        "            color = 'red'\n",
        "            weight = abs((df_eeg_data[feat].max() - df_eeg_data.iloc[slider*srate][feat]) / (df_eeg_data[feat].max() - df_eeg_data[feat].min()))\n",
        "            if df_eeg_data.iloc[slider*srate][feat] < 0:\n",
        "                color = 'blue'\n",
        "            fig.add_shape(editable=False, fillcolor=color, type='circle', \\\n",
        "                x0=pos[feat][0][0], y0=pos[feat][0][1], x1=pos[feat][1][0], y1=pos[feat][1][1], \\\n",
        "                    opacity=weight)\n",
        "    return fig\n",
        "\n",
        "@app.callback(\n",
        "    Output('eeg_heatmap', 'figure'),\n",
        "    Input('time_slider', 'value')\n",
        ")\n",
        "def eeg_heatmap_callback(slider):\n",
        "  return eeg_heatmap(slider)\n",
        "\n",
        "enable_automatic_play = False\n",
        "@app.callback(\n",
        "    Output('other_charts', 'children'),\n",
        "    Input('time_slider', 'value')\n",
        ")\n",
        "def metrics(slider):\n",
        "  global _res\n",
        "\n",
        "  _res = \"called\"\n",
        "  try:\n",
        "    return update_metrics(slider)\n",
        "  except Exception as e:\n",
        "    _res = e\n",
        "\n",
        "@app.callback(\n",
        "    Output(\"play_button\", \"children\"),\n",
        "    Input(\"play_button\", \"n_clicks\")\n",
        ")\n",
        "def pbtn(n_clicks):\n",
        "  global enable_automatic_play\n",
        "  if n_clicks is None:\n",
        "    return dash.no_update, ''\n",
        "  \n",
        "  if enable_automatic_play:\n",
        "    enable_automatic_play = False\n",
        "    return [\"play_arrow\"]\n",
        "  else:\n",
        "    enable_automatic_play = True\n",
        "    return [\"pause\"]\n",
        "\n",
        "minTime = df_eeg_data['Time'].min()\n",
        "maxTime = df_eeg_data['Time'].max()\n",
        "\n",
        "@app.callback(\n",
        "    Output(\"time_slider\", \"value\"),\n",
        "    State(\"time_slider\", \"value\"),\n",
        "    Input('play_interval', 'n_intervals')\n",
        ")\n",
        "def updt(slider, intervals):\n",
        "  ctx = dash.callback_context\n",
        "  if not ctx.triggered or not enable_automatic_play: return dash.no_update\n",
        "\n",
        "  return max(minTime, min(maxTime - 1, slider + 1))\n",
        "\n",
        "@app.callback(\n",
        "    Output(\"timestamp\", \"children\"),\n",
        "    State(\"time_slider\", \"value\"),\n",
        "    Input('play_interval', 'n_intervals')\n",
        ")\n",
        "def ts_updt(slider, interval):\n",
        "  return [str(get_timestamp(slider))]\n",
        "\n",
        "@app.callback(\n",
        "    Output(\"eda_feats\", \"value\"),\n",
        "    Input(\"show_all_button\", \"n_clicks\")\n",
        ")\n",
        "def proc(n_clicks):\n",
        "  if n_clicks is None or n_clicks == 0: return dash.no_update, \"\"\n",
        "  return corr_matrix.columns\n",
        "\n",
        "pca_fig = px.scatter(pc_df, x='PC0', y='PC1', title='PCA Scatterplot')\n",
        "\n",
        "app.layout = html.Div(children=[\n",
        "    html.H1(children='MINTS Biometric Analysis'),\n",
        "    html.Div(children=[\n",
        "        html.H2(children='Exploratory Data Analysis'),\n",
        "        html.H4(children='Data Features'),\n",
        "        html.Button(\"Show All Features\", id=\"show_all_button\", n_clicks=0),\n",
        "        dcc.Dropdown(id='eda_feats', options=corr_matrix.columns, value=corr_matrix.columns[:10], multi=True),\n",
        "        html.Div(children=[\n",
        "            html.H3(children='Correlations'),\n",
        "            html.Div(children=[\n",
        "                html.Div(children=[\n",
        "                    dcc.Graph(id='eda_corr')\n",
        "                ], style={'display': 'inline-block', 'width': '30%', 'verticalAlign': 'top'}),\n",
        "                html.Div(children=[\n",
        "                    dcc.Graph(id='time_series', figure=display_time_series(corr_matrix.columns[:10])),\n",
        "                ], style={'display': 'inline-block', 'width': '70%', 'verticalAlign': 'top'}),\n",
        "            ]),\n",
        "        ]),\n",
        "        html.H2(children='Per-timestep Analysis'),\n",
        "        html.Div(children=[\n",
        "          html.H4(children='Timestep', style={\"backgroundColor\": \"inherit\"}),\n",
        "          html.Div(children=[\n",
        "              html.Div(children=[\n",
        "                html.Button(\"play_arrow\", id=\"play_button\", className=\"material-icons\"),\n",
        "                html.P(children=[\"00:00:00\"], id=\"timestamp\", style={\"backgroundColor\": \"inherit\"})\n",
        "              ], style={\"float\": \"left\", \"width\": \"3%\"}),\n",
        "              html.Div(children=[dcc.Slider(id='time_slider', value=minTime, min=minTime, max=maxTime)], style={\"float\": \"right\", \"width\": \"96%\"})\n",
        "          ])\n",
        "        ], style={\"position\": \"sticky\", \"top\": \"10px\", \"backgroundColor\": \"rgba(255, 255, 255, 0.4)\", \"zIndex\": \"10000\"}),\n",
        "        html.H4('EEG Heatmap'),\n",
        "        dcc.Graph(id='eeg_heatmap', figure=eeg_heatmap(minTime)),\n",
        "        html.Div(children=[\n",
        "            html.H4(children=\"Textual Charts\"),\n",
        "            html.Div(id=\"other_charts\", children=update_metrics(minTime))\n",
        "        ]),\n",
        "        html.Div(children=[\n",
        "            html.H4(children='Principle Component Analysis'),\n",
        "            dcc.Graph(id='eda_pca', figure=pca_fig)\n",
        "        ])\n",
        "    ]),\n",
        "    dcc.Interval(id='play_interval', interval=1000, n_intervals=0)\n",
        "])\n",
        "\n",
        "app.run_server(mode=\"inline\", debug=True, port=1051)"
      ]
    },
    {
      "cell_type": "code",
      "execution_count": null,
      "metadata": {
        "id": "LpYXKHhhve01"
      },
      "outputs": [],
      "source": [
        "import tensorflow as tf"
      ]
    },
    {
      "cell_type": "code",
      "execution_count": null,
      "metadata": {
        "id": "kVQx9s1Kx651"
      },
      "outputs": [],
      "source": [
        "from tqdm import tqdm"
      ]
    },
    {
      "cell_type": "code",
      "execution_count": null,
      "metadata": {
        "id": "vu1ETNLCmI-l"
      },
      "outputs": [],
      "source": [
        "fftwindow = 512\n",
        "labels = (\"FT7\", \"FT8\", \"TP7\", \"TP10\")\n",
        "looking_for = \"you\"\n",
        "to_range = len(norm_df_eeg_data) - fftwindow\n",
        "\n",
        "looking_for_indices = [i for i in range(to_range) if (looking_for in caption_text[int(i / samplerate)].split())]\n",
        "\n",
        "df_eeg_found = norm_df_eeg_data[norm_df_eeg_data.index.isin(looking_for_indices)]\n",
        "df_eeg_not_found = norm_df_eeg_data[~norm_df_eeg_data.index.isin(looking_for_indices)]\n",
        "\n",
        "df_eeg_found.reset_index(inplace=True)\n",
        "df_eeg_not_found.reset_index(inplace=True)\n",
        "None"
      ]
    },
    {
      "cell_type": "code",
      "execution_count": null,
      "metadata": {
        "id": "E3sgt5fB2hub"
      },
      "outputs": [],
      "source": [
        "#df_eeg_found.to_csv('eeg_data_found.csv')\n",
        "#df_eeg_not_found.to_csv('eeg_data_not_found.csv')"
      ]
    },
    {
      "cell_type": "code",
      "execution_count": null,
      "metadata": {
        "colab": {
          "base_uri": "https://localhost:8080/"
        },
        "id": "0Zsu7MbUUxIe",
        "outputId": "8e5bb6b6-ce2d-4cde-a737-1d57f51d5739"
      },
      "outputs": [
        {
          "name": "stderr",
          "output_type": "stream",
          "text": [
            "100%|██████████| 16500/16500 [00:00<00:00, 31200.94it/s]\n",
            "100%|██████████| 94595/94595 [00:03<00:00, 29959.23it/s]\n"
          ]
        }
      ],
      "source": [
        "def convert_inputs1(data):\n",
        "  tensors = []\n",
        "\n",
        "  for i in tqdm(range(len(data))):\n",
        "    tensor = [data[label][i] for label in labels]\n",
        "    tensors.append(tensor)\n",
        "  \n",
        "  return tensors\n",
        "\n",
        "base_dataset_found = tf.data.Dataset.from_tensor_slices(convert_inputs1(df_eeg_found))\n",
        "base_dataset_not_found = tf.data.Dataset.from_tensor_slices(convert_inputs1(df_eeg_not_found))"
      ]
    },
    {
      "cell_type": "code",
      "execution_count": null,
      "metadata": {
        "id": "XdxcwsV4MX4l"
      },
      "outputs": [],
      "source": [
        "LSTM_BATCH_LEN = 16 #@param\n",
        "BATCH_SIZE = 16 #@param"
      ]
    },
    {
      "cell_type": "code",
      "execution_count": null,
      "metadata": {
        "id": "x1PqtnchIWyF"
      },
      "outputs": [],
      "source": [
        "def transform_data(fft_data):\n",
        "  return [[tf.abs(fft_data)] * LSTM_BATCH_LEN]\n",
        "\n",
        "def convert_x_tensors(data):\n",
        "  return [tf.convert_to_tensor(np.abs(row), dtype=tf.float64) for row in data[\"FT7fft\"]]\n",
        "\n",
        "x_tensors_found = convert_x_tensors(df_eeg_found)\n",
        "x_tensors_not_found = convert_x_tensors(df_eeg_not_found)"
      ]
    },
    {
      "cell_type": "code",
      "execution_count": null,
      "metadata": {
        "id": "XL6JCXytRW29"
      },
      "outputs": [],
      "source": [
        "fft_dataset_found = tf.data.Dataset.from_tensor_slices(x_tensors_found).map(transform_data)\n",
        "fft_dataset_not_found = tf.data.Dataset.from_tensor_slices(x_tensors_not_found).map(transform_data)"
      ]
    },
    {
      "cell_type": "code",
      "execution_count": null,
      "metadata": {
        "id": "_Bo4bBebLRBD"
      },
      "outputs": [],
      "source": [
        "#def gen_y_dataset(data):\n",
        "#  return [[int(looking_for in caption_text[int(i / samplerate)].split())] for i in range(len(data))]\n",
        "\n",
        "#y_dataset_found = tf.data.Dataset.from_tensor_slices(gen_y_dataset(df_eeg_found))\n",
        "#y_dataset_not_found = tf.data.Dataset.from_tensor_slices(gen_y_dataset(df_eeg_not_found))\n",
        "\n",
        "y_dataset_found = tf.data.Dataset.from_tensor_slices([[1]]).repeat(len(df_eeg_found))\n",
        "y_dataset_not_found = tf.data.Dataset.from_tensor_slices([[0]]).repeat(len(df_eeg_not_found))"
      ]
    },
    {
      "cell_type": "code",
      "execution_count": null,
      "metadata": {
        "id": "14LhjmlnK8mz"
      },
      "outputs": [],
      "source": [
        "x_dataset_found = tf.data.Dataset.zip((base_dataset_found, fft_dataset_found))\n",
        "x_dataset_not_found = tf.data.Dataset.zip((base_dataset_not_found, fft_dataset_not_found))\n",
        "\n",
        "dataset_found = tf.data.Dataset.zip((x_dataset_found, y_dataset_found))\n",
        "dataset_not_found = tf.data.Dataset.zip((x_dataset_not_found, y_dataset_not_found))\n",
        "\n",
        "# Split into test and train\n",
        "train_percent = 0.8\n",
        "dataset_found_test = dataset_found.skip(int(train_percent * len(dataset_found)))\n",
        "dataset_not_found_test = dataset_not_found.skip(int(train_percent * len(dataset_not_found)))\n",
        "dataset_found = dataset_found.take(int(train_percent * len(dataset_found)))\n",
        "dataset_not_found = dataset_not_found.take(int(train_percent * len(dataset_not_found)))"
      ]
    },
    {
      "cell_type": "code",
      "execution_count": null,
      "metadata": {
        "id": "UoRkQ8RHXv7b"
      },
      "outputs": [],
      "source": [
        "joined_dataset = tf.data.Dataset.sample_from_datasets([dataset_found.repeat(), dataset_not_found.repeat()])\n",
        "joined_dataset_test = dataset_found_test.concatenate(dataset_not_found_test)\n",
        "\n",
        "dataset = joined_dataset.batch(BATCH_SIZE)\n",
        "dataset_test = joined_dataset_test.shuffle(len(joined_dataset_test)).batch(BATCH_SIZE)"
      ]
    },
    {
      "cell_type": "code",
      "execution_count": null,
      "metadata": {
        "id": "dALcbdQkEnnr"
      },
      "outputs": [],
      "source": [
        "input1 = tf.keras.layers.Input(shape=(len(labels),))\n",
        "input2 = tf.keras.layers.Input(shape=(LSTM_BATCH_LEN, fftsize))\n",
        "\n",
        "x1 = tf.keras.layers.Dense(48, activation=\"sigmoid\")(input1)\n",
        "x2 = tf.keras.layers.LSTM(256)(input2)\n",
        "x2 = tf.keras.layers.Dense(48, activation=\"sigmoid\")(x2)\n",
        "x = tf.keras.layers.Dense(64)(tf.concat([x1, x2], axis=-1))\n",
        "x = tf.keras.layers.Dense(16)(x)\n",
        "x = tf.keras.layers.Dense(1)(x)\n",
        "\n",
        "model = tf.keras.Model(inputs=[input1, input2], outputs=x)"
      ]
    },
    {
      "cell_type": "code",
      "execution_count": null,
      "metadata": {
        "colab": {
          "base_uri": "https://localhost:8080/",
          "height": 969
        },
        "id": "DD7mAaeJKQk9",
        "outputId": "e0adcb27-bae5-4a13-ab45-7f2c06d546e9"
      },
      "outputs": [
        {
          "data": {
            "image/png": "[encoded data removed]",
            "text/plain": [
              "<IPython.core.display.Image object>"
            ]
          },
          "execution_count": 37,
          "metadata": {},
          "output_type": "execute_result"
        }
      ],
      "source": [
        "tf.keras.utils.plot_model(model, show_shapes=True, show_dtype=True, show_layer_names=True, expand_nested=True, dpi=96, show_layer_activations=True)"
      ]
    },
    {
      "cell_type": "code",
      "execution_count": null,
      "metadata": {
        "id": "uAfP10ZWKnYf"
      },
      "outputs": [],
      "source": [
        "model.compile(loss=tf.keras.losses.BinaryCrossentropy(from_logits=True), optimizer=tf.keras.optimizers.Adam(1e-4), metrics=[\"accuracy\"])"
      ]
    },
    {
      "cell_type": "code",
      "execution_count": null,
      "metadata": {
        "colab": {
          "base_uri": "https://localhost:8080/",
          "height": 786
        },
        "id": "8YU0Ms3BK3WM",
        "outputId": "34523dc1-2e85-46d6-f1f4-07c5da094567"
      },
      "outputs": [
        {
          "name": "stdout",
          "output_type": "stream",
          "text": [
            "Epoch 1/5\n",
            "WARNING:tensorflow:Model was constructed with shape (None, 16, 512) for input KerasTensor(type_spec=TensorSpec(shape=(None, 16, 512), dtype=tf.float32, name='input_2'), name='input_2', description=\"created by layer 'input_2'\"), but it was called on an input with incompatible shape (None, 16).\n"
          ]
        },
        {
          "ename": "ValueError",
          "evalue": "ignored",
          "output_type": "error",
          "traceback": [
            "\u001b[0;31m---------------------------------------------------------------------------\u001b[0m",
            "\u001b[0;31mValueError\u001b[0m                                Traceback (most recent call last)",
            "\u001b[0;32m<ipython-input-39-8cbdca67c962>\u001b[0m in \u001b[0;36m<module>\u001b[0;34m()\u001b[0m\n\u001b[0;32m----> 1\u001b[0;31m \u001b[0mhistory\u001b[0m \u001b[0;34m=\u001b[0m \u001b[0mmodel\u001b[0m\u001b[0;34m.\u001b[0m\u001b[0mfit\u001b[0m\u001b[0;34m(\u001b[0m\u001b[0mdataset\u001b[0m\u001b[0;34m,\u001b[0m \u001b[0mepochs\u001b[0m\u001b[0;34m=\u001b[0m\u001b[0;36m5\u001b[0m\u001b[0;34m,\u001b[0m \u001b[0msteps_per_epoch\u001b[0m\u001b[0;34m=\u001b[0m\u001b[0mlen\u001b[0m\u001b[0;34m(\u001b[0m\u001b[0mdf_eeg_data\u001b[0m\u001b[0;34m)\u001b[0m\u001b[0;34m,\u001b[0m \u001b[0mvalidation_data\u001b[0m\u001b[0;34m=\u001b[0m\u001b[0mdataset_test\u001b[0m\u001b[0;34m)\u001b[0m\u001b[0;34m\u001b[0m\u001b[0;34m\u001b[0m\u001b[0m\n\u001b[0m",
            "\u001b[0;32m/usr/local/lib/python3.7/dist-packages/keras/utils/traceback_utils.py\u001b[0m in \u001b[0;36merror_handler\u001b[0;34m(*args, **kwargs)\u001b[0m\n\u001b[1;32m     65\u001b[0m     \u001b[0;32mexcept\u001b[0m \u001b[0mException\u001b[0m \u001b[0;32mas\u001b[0m \u001b[0me\u001b[0m\u001b[0;34m:\u001b[0m  \u001b[0;31m# pylint: disable=broad-except\u001b[0m\u001b[0;34m\u001b[0m\u001b[0;34m\u001b[0m\u001b[0m\n\u001b[1;32m     66\u001b[0m       \u001b[0mfiltered_tb\u001b[0m \u001b[0;34m=\u001b[0m \u001b[0m_process_traceback_frames\u001b[0m\u001b[0;34m(\u001b[0m\u001b[0me\u001b[0m\u001b[0;34m.\u001b[0m\u001b[0m__traceback__\u001b[0m\u001b[0;34m)\u001b[0m\u001b[0;34m\u001b[0m\u001b[0;34m\u001b[0m\u001b[0m\n\u001b[0;32m---> 67\u001b[0;31m       \u001b[0;32mraise\u001b[0m \u001b[0me\u001b[0m\u001b[0;34m.\u001b[0m\u001b[0mwith_traceback\u001b[0m\u001b[0;34m(\u001b[0m\u001b[0mfiltered_tb\u001b[0m\u001b[0;34m)\u001b[0m \u001b[0;32mfrom\u001b[0m \u001b[0;32mNone\u001b[0m\u001b[0;34m\u001b[0m\u001b[0;34m\u001b[0m\u001b[0m\n\u001b[0m\u001b[1;32m     68\u001b[0m     \u001b[0;32mfinally\u001b[0m\u001b[0;34m:\u001b[0m\u001b[0;34m\u001b[0m\u001b[0;34m\u001b[0m\u001b[0m\n\u001b[1;32m     69\u001b[0m       \u001b[0;32mdel\u001b[0m \u001b[0mfiltered_tb\u001b[0m\u001b[0;34m\u001b[0m\u001b[0;34m\u001b[0m\u001b[0m\n",
            "\u001b[0;32m/usr/local/lib/python3.7/dist-packages/tensorflow/python/framework/func_graph.py\u001b[0m in \u001b[0;36mautograph_handler\u001b[0;34m(*args, **kwargs)\u001b[0m\n\u001b[1;32m   1145\u001b[0m           \u001b[0;32mexcept\u001b[0m \u001b[0mException\u001b[0m \u001b[0;32mas\u001b[0m \u001b[0me\u001b[0m\u001b[0;34m:\u001b[0m  \u001b[0;31m# pylint:disable=broad-except\u001b[0m\u001b[0;34m\u001b[0m\u001b[0;34m\u001b[0m\u001b[0m\n\u001b[1;32m   1146\u001b[0m             \u001b[0;32mif\u001b[0m \u001b[0mhasattr\u001b[0m\u001b[0;34m(\u001b[0m\u001b[0me\u001b[0m\u001b[0;34m,\u001b[0m \u001b[0;34m\"ag_error_metadata\"\u001b[0m\u001b[0;34m)\u001b[0m\u001b[0;34m:\u001b[0m\u001b[0;34m\u001b[0m\u001b[0;34m\u001b[0m\u001b[0m\n\u001b[0;32m-> 1147\u001b[0;31m               \u001b[0;32mraise\u001b[0m \u001b[0me\u001b[0m\u001b[0;34m.\u001b[0m\u001b[0mag_error_metadata\u001b[0m\u001b[0;34m.\u001b[0m\u001b[0mto_exception\u001b[0m\u001b[0;34m(\u001b[0m\u001b[0me\u001b[0m\u001b[0;34m)\u001b[0m\u001b[0;34m\u001b[0m\u001b[0;34m\u001b[0m\u001b[0m\n\u001b[0m\u001b[1;32m   1148\u001b[0m             \u001b[0;32melse\u001b[0m\u001b[0;34m:\u001b[0m\u001b[0;34m\u001b[0m\u001b[0;34m\u001b[0m\u001b[0m\n\u001b[1;32m   1149\u001b[0m               \u001b[0;32mraise\u001b[0m\u001b[0;34m\u001b[0m\u001b[0;34m\u001b[0m\u001b[0m\n",
            "\u001b[0;31mValueError\u001b[0m: in user code:\n\n    File \"/usr/local/lib/python3.7/dist-packages/keras/engine/training.py\", line 1021, in train_function  *\n        return step_function(self, iterator)\n    File \"/usr/local/lib/python3.7/dist-packages/keras/engine/training.py\", line 1010, in step_function  **\n        outputs = model.distribute_strategy.run(run_step, args=(data,))\n    File \"/usr/local/lib/python3.7/dist-packages/keras/engine/training.py\", line 1000, in run_step  **\n        outputs = model.train_step(data)\n    File \"/usr/local/lib/python3.7/dist-packages/keras/engine/training.py\", line 859, in train_step\n        y_pred = self(x, training=True)\n    File \"/usr/local/lib/python3.7/dist-packages/keras/utils/traceback_utils.py\", line 67, in error_handler\n        raise e.with_traceback(filtered_tb) from None\n    File \"/usr/local/lib/python3.7/dist-packages/keras/engine/input_spec.py\", line 214, in assert_input_compatibility\n        raise ValueError(f'Input {input_index} of layer \"{layer_name}\" '\n\n    ValueError: Exception encountered when calling layer \"model\" (type Functional).\n    \n    Input 0 of layer \"lstm\" is incompatible with the layer: expected ndim=3, found ndim=2. Full shape received: (None, 16)\n    \n    Call arguments received:\n      • inputs=('tf.Tensor(shape=(None, 4), dtype=float64)', ('tf.Tensor(shape=(None, 16), dtype=float64)',))\n      • training=True\n      • mask=None\n"
          ]
        }
      ],
      "source": [
        "history = model.fit(dataset, epochs=5, steps_per_epoch=len(df_eeg_data), validation_data=dataset_test)"
      ]
    },
    {
      "cell_type": "code",
      "execution_count": null,
      "metadata": {
        "colab": {
          "base_uri": "https://localhost:8080/"
        },
        "id": "bnE6XAyZ2jLz",
        "outputId": "876f0b85-95d4-43e2-9a7f-e2d0919fe335"
      },
      "outputs": [
        {
          "name": "stdout",
          "output_type": "stream",
          "text": [
            "/bin/bash: -c: line 0: syntax error near unexpected token `done'\n",
            "/bin/bash: -c: line 0: `while 1 do; sleep 1; nvidia-smi; done;'\n"
          ]
        }
      ],
      "source": [
        "!while 1 do; sleep 1; nvidia-smi; done;"
      ]
    },
    {
      "cell_type": "code",
      "execution_count": null,
      "metadata": {
        "id": "VeZBPLXxTjHM"
      },
      "outputs": [],
      "source": [
        "## PROBLEM! The data is very uneven (i.e., the \"you\"s are quite sparse)\n",
        "## TODO: Ask Usaid + others about evening out the \"you\"s vs the not \"you\"s so\n",
        "##       that we don't have this issue where prediction is unfairly biased\n",
        "##       towards not \"you\" regardless of the inputs."
      ]
    },
    {
      "cell_type": "code",
      "execution_count": null,
      "metadata": {
        "id": "GzhmOynGOc-A"
      },
      "outputs": [],
      "source": [
        "items = list(iter(dataset.take(8)))"
      ]
    },
    {
      "cell_type": "code",
      "execution_count": null,
      "metadata": {
        "id": "JjQj2UDBOgC0"
      },
      "outputs": [],
      "source": [
        "items[-1][-1]"
      ]
    },
    {
      "cell_type": "code",
      "execution_count": null,
      "metadata": {
        "id": "O7GMh9XOGLWS"
      },
      "outputs": [],
      "source": [
        "# Usaid: Exploratory Data Analysis Stuff I'm trying out\n",
        "import sys\n",
        "!{sys.executable} -m pip install -U pandas-profiling[notebook]\n",
        "!jupyter nbextension enable --py widgetsnbextension"
      ]
    },
    {
      "cell_type": "code",
      "execution_count": null,
      "metadata": {
        "id": "4ohWaHb4WdJN"
      },
      "outputs": [],
      "source": [
        "pd.__version__"
      ]
    },
    {
      "cell_type": "code",
      "execution_count": null,
      "metadata": {
        "id": "mF3vaV40GSRc"
      },
      "outputs": [],
      "source": [
        "from pandas_profiling import ProfileReport\n",
        "profile = ProfileReport(df_eeg_data, minimal=True)\n",
        "profile.to_file('eda.html')"
      ]
    },
    {
      "cell_type": "code",
      "execution_count": null,
      "metadata": {
        "id": "cWef0R1Pakq0"
      },
      "outputs": [],
      "source": [
        "df_eeg_data.to_csv('eeg_data.csv')"
      ]
    },
    {
      "cell_type": "markdown",
      "metadata": {
        "id": "I0-fTqpsoWY6"
      },
      "source": [
        "# MFCCs, extracting features from audio\n",
        "The current state-of-the-art feature extraction used for speech and speaker recognition is Mel-Frequency Cepstral Coefficients (MFCCs). These were first conceptualized and used in the 80s, and more people continue to find applications where the MFCCs have been helpful and perform quite well. This paper from Sato and Obuchi https://www.jstage.jst.go.jp/article/imt/2/3/2_3_835/_pdf (2007) uses a very simple implementation of MFCCs to get 66.4% accuracy in distinguishing between the emotions (hot anger, neutral, sadness, and happiness). When just looking at the emotions (hot anger, and neutral) the simple algorithm gets 98.75% accuracy. Both of these improve on previous attempts that used Prosodic feataures (pitch, loudness, tempo, rhythm). This shows that MFCCs are a good feature for us to extract if we are looking to gather some emotive responses from the audio to pair with the biometric information. \n",
        "\n",
        "\\\\\n",
        "While this might be more than enough to go off of, if we are looking to take it a step further, the paper \"Recognition of Human Speech Emotion Using Variants of Mel-Frequency Cepstral Coefficients\" published in 2018 can help provide some direction for which variations to use. \n",
        "https://www.researchgate.net/profile/Lenin-Nc/publication/321755687_Linear_Synchronous_Reluctance_Motor-A_Comprehensive_Review/links/5b18bdd90f7e9b68b424b63e/Linear-Synchronous-Reluctance-Motor-A-Comprehensive-Review.pdf#page=490\n",
        "## Visualizing Mel Spectrograms"
      ]
    },
    {
      "cell_type": "code",
      "execution_count": null,
      "metadata": {
        "colab": {
          "base_uri": "https://localhost:8080/"
        },
        "id": "pHKgGdZOohWx",
        "outputId": "806e8440-dc1f-4dfc-dfe9-1d322a457f1c"
      },
      "outputs": [
        {
          "data": {
            "text/plain": [
              "(15, 2049)"
            ]
          },
          "execution_count": 20,
          "metadata": {},
          "output_type": "execute_result"
        }
      ],
      "source": [
        "import librosa\n",
        "import librosa.display\n",
        "\n",
        "# Load the yt_wav file into a signal matrix\n",
        "\n",
        "signal, audio_sample_rate = librosa.load(yt_wav)\n",
        "\n"
      ]
    },
    {
      "cell_type": "code",
      "execution_count": null,
      "metadata": {
        "colab": {
          "base_uri": "https://localhost:8080/",
          "height": 606
        },
        "id": "4Vng7Q6TpgL4",
        "outputId": "2d9c7d69-fbee-4891-b66a-fd07bb1b2efa"
      },
      "outputs": [
        {
          "data": {
            "image/png": "[encoded data removed]",
            "text/plain": [
              "<Figure size 1800x720 with 2 Axes>"
            ]
          },
          "metadata": {},
          "output_type": "display_data"
        }
      ],
      "source": [
        "# get the Mel filter banks. key to getting the spectrogram \n",
        "# extract vanilla spectrogram, apply mel filter banks, get the mel spectrogram\n",
        "# answers the question what is the weight that should be applied to each frequency? i.e. where are the important mel bands\n",
        "\n",
        "filter_banks = librosa.filters.mel(n_fft=4096, sr=audio_sample_rate, n_mels=15)\n",
        "plt.figure(figsize=(25, 10))\n",
        "librosa.display.specshow(filter_banks, sr=audio_sample_rate, x_axis=\"linear\")\n",
        "plt.colorbar()\n",
        "plt.show()\n",
        "\n",
        "# the higher weights indicate where the center of the mel bands are, you can see the 15 mel bands as blocks, and the intensity shows how high the mel peak is"
      ]
    },
    {
      "cell_type": "code",
      "execution_count": null,
      "metadata": {
        "id": "1IxuK4s3qEJJ"
      },
      "outputs": [],
      "source": [
        "mel_spectrogram = librosa.feature.melspectrogram(signal, sr=audio_sample_rate, n_fft=4096, hop_length=512, n_mels=15)\n",
        "log_mel_spectrogram = librosa.power_to_db(mel_spectrogram)"
      ]
    },
    {
      "cell_type": "code",
      "execution_count": null,
      "metadata": {
        "colab": {
          "base_uri": "https://localhost:8080/",
          "height": 606
        },
        "id": "9dcQYBptqqlY",
        "outputId": "32ee1d88-e83c-4316-8623-41586003d93d"
      },
      "outputs": [
        {
          "data": {
            "image/png": "[encoded data removed]",
            "text/plain": [
              "<Figure size 1800x720 with 2 Axes>"
            ]
          },
          "metadata": {},
          "output_type": "display_data"
        }
      ],
      "source": [
        "plt.figure(figsize=(25, 10))\n",
        "librosa.display.specshow(log_mel_spectrogram, x_axis=\"time\", y_axis=\"mel\", sr=audio_sample_rate)\n",
        "plt.colorbar()\n",
        "plt.show()"
      ]
    },
    {
      "cell_type": "markdown",
      "metadata": {
        "id": "0Ard6GuBkUJl"
      },
      "source": [
        "# Extracting MFCCs from the yt_wav"
      ]
    },
    {
      "cell_type": "code",
      "execution_count": null,
      "metadata": {
        "colab": {
          "base_uri": "https://localhost:8080/"
        },
        "id": "2K8whDG7mJ4M",
        "outputId": "85e10259-8858-49a2-adec-c58cdbff61cd"
      },
      "outputs": [
        {
          "data": {
            "text/plain": [
              "(15, 8741)"
            ]
          },
          "execution_count": 13,
          "metadata": {},
          "output_type": "execute_result"
        }
      ],
      "source": [
        "# extract the 15 highest MFCCs (arbitrary 15)\n",
        "\n",
        "mfccs = librosa.feature.mfcc(signal, n_mfcc=15, sr=audio_sample_rate)\n",
        "mfccs.shape"
      ]
    },
    {
      "cell_type": "code",
      "execution_count": null,
      "metadata": {
        "colab": {
          "base_uri": "https://localhost:8080/",
          "height": 606
        },
        "id": "gIQseKq7mkgF",
        "outputId": "9b9968a8-5819-4c92-819f-94b7858cb1cf"
      },
      "outputs": [
        {
          "data": {
            "image/png": "[encoded data removed]",
            "text/plain": [
              "<Figure size 1800x720 with 2 Axes>"
            ]
          },
          "metadata": {},
          "output_type": "display_data"
        }
      ],
      "source": [
        "# visualize the MFCCs, spectrum of a spectrum\n",
        "plt.figure(figsize=(25, 10))\n",
        "librosa.display.specshow(mfccs, x_axis=\"time\", sr=audio_sample_rate)\n",
        "plt.colorbar()\n",
        "plt.show()"
      ]
    },
    {
      "cell_type": "code",
      "execution_count": null,
      "metadata": {
        "colab": {
          "base_uri": "https://localhost:8080/",
          "height": 1000
        },
        "id": "KxxVQa7OnMoe",
        "outputId": "befa61af-834b-4531-cf25-759b4f5cc784"
      },
      "outputs": [
        {
          "data": {
            "image/png": "[encoded data removed]",
            "text/plain": [
              "<Figure size 1800x720 with 2 Axes>"
            ]
          },
          "metadata": {},
          "output_type": "display_data"
        },
        {
          "data": {
            "image/png": "[encoded data removed]",
            "text/plain": [
              "<Figure size 1800x720 with 2 Axes>"
            ]
          },
          "metadata": {},
          "output_type": "display_data"
        }
      ],
      "source": [
        "# calculate delta and delta2 MFCCs (first and second derivatives)\n",
        "delta_mfccs = librosa.feature.delta(mfccs)\n",
        "delta2_mfccs = librosa.feature.delta(mfccs, order=2)\n",
        "\n",
        "# visualize the derivatives of the MFCCs\n",
        "plt.figure(figsize=(25, 10))\n",
        "librosa.display.specshow(delta_mfccs, x_axis=\"time\", sr=audio_sample_rate)\n",
        "plt.colorbar()\n",
        "plt.show()\n",
        "\n",
        "plt.figure(figsize=(25, 10))\n",
        "librosa.display.specshow(delta2_mfccs, x_axis=\"time\", sr=audio_sample_rate)\n",
        "plt.colorbar()\n",
        "plt.show()"
      ]
    },
    {
      "cell_type": "code",
      "execution_count": null,
      "metadata": {
        "colab": {
          "base_uri": "https://localhost:8080/"
        },
        "id": "kKsCbfKynlsU",
        "outputId": "8d0cc9a2-ee6a-4a20-a999-0768ff3b423a"
      },
      "outputs": [
        {
          "data": {
            "text/plain": [
              "(45, 8741)"
            ]
          },
          "execution_count": 28,
          "metadata": {},
          "output_type": "execute_result"
        }
      ],
      "source": [
        "combined_mfccs = np.concatenate((mfccs, delta_mfccs, delta2_mfccs))\n",
        "combined_mfccs.shape"
      ]
    }
  ],
  "metadata": {
    "colab": {
      "collapsed_sections": [],
      "name": "REAL MINTS March 26 Deliverables.ipynb",
      "provenance": []
    },
    "kernelspec": {
      "display_name": "Python 3",
      "name": "python3"
    },
    "language_info": {
      "name": "python"
    }
  },
  "nbformat": 4,
  "nbformat_minor": 0
}